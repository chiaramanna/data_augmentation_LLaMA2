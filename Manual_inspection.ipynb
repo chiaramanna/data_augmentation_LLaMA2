{
 "cells": [
  {
   "cell_type": "code",
   "execution_count": null,
   "metadata": {},
   "outputs": [],
   "source": [
    "\"\"\"\n",
    "This script processes a dataset stored in a CSV file ('dataset_2.csv') with columns: text, snapshot IDs, and labels.\n",
    "\n",
    "Upon inspection of a data sample, the following patterns were identified as possible mislabeled entries.\n",
    "\n",
    "So, the lines of code below:\n",
    "1. Iterate through each entry in the dataset.\n",
    "2. Filter entries based on specific criteria:\n",
    "    a. If the text is shorter than 40 words (reason code 1).\n",
    "    b. If the text contains the word 'queue', it implies temporarily blocked access (reason code 2).\n",
    "    c. If the text contains the word 'captcha', it indicates the need for verification (reason code 3).\n",
    "    d. If the text contains 'sign in' or 'sign up', it suggests credentials are needed to access (reason code 4).\n",
    "    e. If the text contains 'porn', it suggests mislabeling, possibly pointing to inappropriate content (reason code 5).\n",
    "    f. If the text contains 'redirected', 'suspended', or 'bad gateway', it indicates various access issues (reason codes 6-8).\n",
    "3. Create a new DataFrame ('inspecting_dataset') with the filtered entries and their corresponding reason codes.\n",
    "\n",
    "This inspecting_dataset undergoes manual inspection, resulting in the exclusion of the snapshots below from the final CSV file ('inspected_dataset_.csv').\n",
    "\n",
    "\"\"\"\n",
    "\n",
    "# Note: Uncommenting the two .to_csv lines will overwrite the original CSV files."
   ]
  },
  {
   "cell_type": "code",
   "execution_count": 1,
   "metadata": {},
   "outputs": [],
   "source": [
    "import pandas as pd"
   ]
  },
  {
   "cell_type": "code",
   "execution_count": 2,
   "metadata": {},
   "outputs": [],
   "source": [
    "df = pd.read_csv('data/preprocessed_dataset.csv') #Dataset post label aggregation and preprocessing steps"
   ]
  },
  {
   "cell_type": "code",
   "execution_count": null,
   "metadata": {},
   "outputs": [],
   "source": [
    "inspecting_dataset = []\n",
    "\n",
    "for _, entry in df.iterrows():\n",
    "    text = entry[\"text\"]\n",
    "    snapshot_id = entry[\"snapshot_id\"]\n",
    "    label = entry[\"label\"]\n",
    "\n",
    "    if len(text.split()) < 40: #if text is shorter than 40 words\n",
    "        inspecting_dataset.append({\"text\": text, \"snapshot_id\": snapshot_id, \"label\": label, 'reason': 1})\n",
    "\n",
    "    elif 'queue' in text.lower(): #if queue -> temporarily blocked access\n",
    "        inspecting_dataset.append({\"text\": text, \"snapshot_id\": snapshot_id, \"label\": label,  'reason': 2})\n",
    "\n",
    "    elif 'captcha' in text.lower(): #if captcha -> need to get access granted\n",
    "        inspecting_dataset.append({\"text\": text, \"snapshot_id\": snapshot_id, \"label\": label,  'reason': 3})\n",
    "\n",
    "    elif 'sign in' in text.lower() or 'sign up' in text.lower(): #credentials needed to access\n",
    "        inspecting_dataset.append({\"text\": text, \"snapshot_id\": snapshot_id, \"label\": label,  'reason': 4})\n",
    "\n",
    "    elif 'porn' in text.lower(): #from manual inspection some entries mislabelled and where porn websites or similar\n",
    "        inspecting_dataset.append({\"text\": text, \"snapshot_id\": snapshot_id, \"label\": label,  'reason': 5})\n",
    "\n",
    "    elif 'redirected' in text.lower(): #redirected\n",
    "        inspecting_dataset.append({\"text\": text, \"snapshot_id\": snapshot_id, \"label\": label,  'reason': 6})\n",
    "\n",
    "    elif 'suspended' in text.lower(): #suspended\n",
    "        inspecting_dataset.append({\"text\": text, \"snapshot_id\": snapshot_id, \"label\": label,  'reason': 7})\n",
    " \n",
    "    elif 'bad gateway' in text.lower(): #bad gateway\n",
    "        inspecting_dataset.append({\"text\": text, \"snapshot_id\": snapshot_id, \"label\": label,  'reason': 8})\n",
    "\n",
    "\n",
    "inspecting_dataset = pd.DataFrame(inspecting_dataset)\n",
    "inspecting_dataset.groupby('label')['text'].count()"
   ]
  },
  {
   "cell_type": "code",
   "execution_count": 4,
   "metadata": {},
   "outputs": [],
   "source": [
    "#inspecting_dataset.to_csv('data/ispecting_dataset.csv') \n",
    "#This is manually inspected and the snapshots below are identified as incorrect entries"
   ]
  },
  {
   "cell_type": "code",
   "execution_count": 5,
   "metadata": {},
   "outputs": [],
   "source": [
    "snapshot_to_exclude = []# provide a list of snapshot_id to exclude determined by manual inspection of inspecting dataset"
   ]
  },
  {
   "cell_type": "code",
   "execution_count": 6,
   "metadata": {},
   "outputs": [],
   "source": [
    "df_inspected = df[(~df['snapshot_id'].isin(snapshot_to_exclude))].copy()"
   ]
  },
  {
   "cell_type": "code",
   "execution_count": 7,
   "metadata": {},
   "outputs": [
    {
     "data": {
      "text/plain": [
       "(1932, 8)"
      ]
     },
     "execution_count": 7,
     "metadata": {},
     "output_type": "execute_result"
    }
   ],
   "source": [
    "df_inspected.shape"
   ]
  },
  {
   "cell_type": "code",
   "execution_count": 8,
   "metadata": {},
   "outputs": [],
   "source": [
    "#df_inspected.to_csv('data/inspected_dataset_.csv')"
   ]
  }
 ],
 "metadata": {
  "kernelspec": {
   "display_name": "project_env",
   "language": "python",
   "name": "python3"
  },
  "language_info": {
   "codemirror_mode": {
    "name": "ipython",
    "version": 3
   },
   "file_extension": ".py",
   "mimetype": "text/x-python",
   "name": "python",
   "nbconvert_exporter": "python",
   "pygments_lexer": "ipython3",
   "version": "3.10.13"
  }
 },
 "nbformat": 4,
 "nbformat_minor": 2
}
