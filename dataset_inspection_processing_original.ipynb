{
 "cells": [
  {
   "cell_type": "code",
   "execution_count": 40,
   "metadata": {},
   "outputs": [],
   "source": [
    "import pandas as pd\n",
    "import numpy\n",
    "import re"
   ]
  },
  {
   "cell_type": "code",
   "execution_count": 3,
   "metadata": {},
   "outputs": [],
   "source": [
    "df1 = pd.read_csv(\"datasets_snapshot_id/aug_violent_crime_1.csv\")\n",
    "df2 = pd.read_csv(\"datasets_snapshot_id/aug_violent_crime_2.csv\")\n",
    "df3 = pd.read_csv(\"datasets_snapshot_id/aug_violent_crime_3.csv\")\n",
    "df4 = pd.read_csv(\"datasets_snapshot_id/aug_violent_crime_4.csv\")\n",
    "df5 = pd.read_csv(\"datasets_snapshot_id/aug_violent_crime_5.csv\")\n",
    "df6 = pd.read_csv(\"datasets_snapshot_id/aug_violent_crime_6.csv\")\n",
    "df7 = pd.read_csv(\"datasets_snapshot_id/aug_violent_crime_7.csv\")\n",
    "df8 = pd.read_csv(\"datasets_snapshot_id/aug_violent_crime_8.csv\")\n",
    "df9 = pd.read_csv(\"datasets_snapshot_id/aug_violent_crime_9.csv\")\n",
    "df10 = pd.read_csv(\"datasets_snapshot_id/aug_violent_crime_10.csv\")\n",
    "df11 = pd.read_csv(\"datasets_snapshot_id/aug_violent_crime_11.csv\")\n",
    "df12 = pd.read_csv(\"datasets_snapshot_id/aug_violent_crime_12.csv\")\n",
    "df13 = pd.read_csv(\"datasets_snapshot_id/aug_violent_crime_13.csv\")\n",
    "df14 = pd.read_csv(\"datasets_snapshot_id/aug_violent_crime_14.csv\")\n",
    "\n",
    "df_1 = df1[df1['is synthetic'] == True][['text', 'label', 'snapshot_id']].dropna().copy()\n",
    "df_2 = df2[df2['is synthetic'] == True][['text', 'label', 'snapshot_id']].dropna().copy()\n",
    "df_3 = df3[df3['is synthetic'] == True][['text', 'label', 'snapshot_id']].dropna().copy()\n",
    "df_4 = df4[df4['is synthetic'] == True][['text', 'label', 'snapshot_id']].dropna().copy()\n",
    "df_5 = df5[df5['is synthetic'] == True][['text', 'label', 'snapshot_id']].dropna().copy()\n",
    "df_6 = df6[df6['is synthetic'] == True][['text', 'label', 'snapshot_id']].dropna().copy()\n",
    "df_7 = df7[df7['is synthetic'] == True][['text', 'label', 'snapshot_id']].dropna().copy()\n",
    "df_8 = df8[df8['is synthetic'] == True][['text', 'label', 'snapshot_id']].dropna().copy()\n",
    "df_9 = df9[df9['is synthetic'] == True][['text', 'label', 'snapshot_id']].dropna().copy()\n",
    "df_10 = df10[df10['is synthetic'] == True][['text', 'label', 'snapshot_id']].dropna().copy()\n",
    "df_11 = df11[df11['is synthetic'] == True][['text', 'label', 'snapshot_id']].dropna().copy()\n",
    "df_12= df12[df12['is synthetic'] == True][['text', 'label', 'snapshot_id']].dropna().copy()\n",
    "df_13= df13[df13['is synthetic'] == True][['text', 'label', 'snapshot_id']].dropna().copy()\n",
    "df_14= df14[df14['is synthetic'] == True][['text', 'label', 'snapshot_id']].dropna().copy()\n",
    "\n",
    "df_aug_violent_crime = pd.concat([df_1,df_2, df_3, df_4, df_5, df_6, df_7, df_8, df_9, df_10, df_11, df_12, df_13, df_14], ignore_index=True)"
   ]
  },
  {
   "cell_type": "code",
   "execution_count": 4,
   "metadata": {},
   "outputs": [],
   "source": [
    "df1 = pd.read_csv(\"datasets_snapshot_id/aug_weapons_trade_1.csv\")\n",
    "df2 = pd.read_csv(\"datasets_snapshot_id/aug_weapons_trade_2.csv\")\n",
    "df3 = pd.read_csv(\"datasets_snapshot_id/aug_weapons_trade_3.csv\")\n",
    "df4 = pd.read_csv(\"datasets_snapshot_id/aug_weapons_trade_4.csv\")\n",
    "df5 = pd.read_csv(\"datasets_snapshot_id/aug_weapons_trade_5.csv\")\n",
    "df6 = pd.read_csv(\"datasets_snapshot_id/aug_weapons_trade_6.csv\")\n",
    "df7 = pd.read_csv(\"datasets_snapshot_id/aug_weapons_trade_7.csv\")\n",
    "df8 = pd.read_csv(\"datasets_snapshot_id/aug_weapons_trade_8.csv\")\n",
    "\n",
    "df_1 = df1[df1['is synthetic'] == True][['text', 'label', 'snapshot_id']].dropna().copy()\n",
    "df_2 = df2[df2['is synthetic'] == True][['text', 'label', 'snapshot_id']].dropna().copy()\n",
    "df_3 = df3[df3['is synthetic'] == True][['text', 'label', 'snapshot_id']].dropna().copy()\n",
    "df_4 = df4[df4['is synthetic'] == True][['text', 'label', 'snapshot_id']].dropna().copy()\n",
    "df_5 = df5[df5['is synthetic'] == True][['text', 'label', 'snapshot_id']].dropna().copy()\n",
    "df_6 = df6[df6['is synthetic'] == True][['text', 'label', 'snapshot_id']].dropna().copy()\n",
    "df_7 = df7[df7['is synthetic'] == True][['text', 'label', 'snapshot_id']].dropna().copy()\n",
    "df_8 = df8[df8['is synthetic'] == True][['text', 'label', 'snapshot_id']].dropna().copy()\n",
    "\n",
    "\n",
    "df_aug_weapons_trade = pd.concat([df_1,df_2, df_3, df_4, df_5, df_6, df_7, df_8], ignore_index=True)"
   ]
  },
  {
   "cell_type": "code",
   "execution_count": 5,
   "metadata": {},
   "outputs": [],
   "source": [
    "df1 = pd.read_csv(\"datasets_snapshot_id/aug_cybercrime_1.csv\")\n",
    "df2 = pd.read_csv(\"datasets_snapshot_id/aug_cybercrime_2.csv\")\n",
    "\n",
    "df_1 = df1[df1['is synthetic'] == True][['text', 'label', 'snapshot_id']].dropna().copy()\n",
    "df_2 = df2[df2['is synthetic'] == True][['text', 'label', 'snapshot_id']].dropna().copy()\n",
    "\n",
    "\n",
    "df_aug_cybercrime = pd.concat([df_1,df_2], ignore_index=True)"
   ]
  },
  {
   "cell_type": "code",
   "execution_count": 6,
   "metadata": {},
   "outputs": [],
   "source": [
    "df1 = pd.read_csv(\"datasets_snapshot_id/aug_drugs_trade_1.csv\")\n",
    "\n",
    "df_aug_drugs_trade = df1[df1['is synthetic'] == True][['text', 'label', 'snapshot_id']].dropna().copy()"
   ]
  },
  {
   "cell_type": "markdown",
   "metadata": {},
   "source": [
    "Remove duplicates"
   ]
  },
  {
   "cell_type": "code",
   "execution_count": null,
   "metadata": {},
   "outputs": [],
   "source": [
    "duplicates = df_aug_violent_crime.duplicated(keep=False)\n",
    "df_aug_violent_crime[duplicates]\n",
    "df_aug_violent_crime = df_aug_violent_crime.drop([58, 59, 139, 140, 141] ).reset_index(drop=True)"
   ]
  },
  {
   "cell_type": "code",
   "execution_count": null,
   "metadata": {},
   "outputs": [],
   "source": [
    "duplicates = df_aug_cybercrime.duplicated(keep=False)\n",
    "df_aug_cybercrime[duplicates]\n",
    "df_aug_cybercrime = df_aug_cybercrime.drop([54, 80, 95, 96] ).reset_index(drop=True)"
   ]
  },
  {
   "cell_type": "code",
   "execution_count": null,
   "metadata": {},
   "outputs": [],
   "source": [
    "duplicates = df_aug_weapons_trade.duplicated(keep=False)\n",
    "df_aug_weapons_trade[duplicates]\n",
    "df_aug_weapons_trade = df_aug_weapons_trade.drop([120, 121, 234, 313, 314, 366, 367, 368, 396, 397, 573, 574]).reset_index(drop=True)"
   ]
  },
  {
   "cell_type": "code",
   "execution_count": null,
   "metadata": {},
   "outputs": [],
   "source": [
    "duplicates = df_aug_drugs_trade.duplicated(keep = False)\n",
    "df_aug_drugs_trade[duplicates]\n",
    "df_aug_drugs_trade = df_aug_drugs_trade.drop([353, 378, 383, 384, 405, 406, 641, 642, 756, 861]).reset_index(drop = True)"
   ]
  },
  {
   "cell_type": "code",
   "execution_count": 15,
   "metadata": {},
   "outputs": [
    {
     "data": {
      "text/html": [
       "<div>\n",
       "<style scoped>\n",
       "    .dataframe tbody tr th:only-of-type {\n",
       "        vertical-align: middle;\n",
       "    }\n",
       "\n",
       "    .dataframe tbody tr th {\n",
       "        vertical-align: top;\n",
       "    }\n",
       "\n",
       "    .dataframe thead th {\n",
       "        text-align: right;\n",
       "    }\n",
       "</style>\n",
       "<table border=\"1\" class=\"dataframe\">\n",
       "  <thead>\n",
       "    <tr style=\"text-align: right;\">\n",
       "      <th></th>\n",
       "      <th>text</th>\n",
       "      <th>label</th>\n",
       "      <th>snapshot_id</th>\n",
       "    </tr>\n",
       "  </thead>\n",
       "  <tbody>\n",
       "  </tbody>\n",
       "</table>\n",
       "</div>"
      ],
      "text/plain": [
       "Empty DataFrame\n",
       "Columns: [text, label, snapshot_id]\n",
       "Index: []"
      ]
     },
     "execution_count": 15,
     "metadata": {},
     "output_type": "execute_result"
    }
   ],
   "source": [
    "duplicates = df_aug_violent_crime['text'].duplicated(keep=False)\n",
    "df_aug_violent_crime[duplicates]"
   ]
  },
  {
   "cell_type": "code",
   "execution_count": 16,
   "metadata": {},
   "outputs": [
    {
     "data": {
      "text/html": [
       "<div>\n",
       "<style scoped>\n",
       "    .dataframe tbody tr th:only-of-type {\n",
       "        vertical-align: middle;\n",
       "    }\n",
       "\n",
       "    .dataframe tbody tr th {\n",
       "        vertical-align: top;\n",
       "    }\n",
       "\n",
       "    .dataframe thead th {\n",
       "        text-align: right;\n",
       "    }\n",
       "</style>\n",
       "<table border=\"1\" class=\"dataframe\">\n",
       "  <thead>\n",
       "    <tr style=\"text-align: right;\">\n",
       "      <th></th>\n",
       "      <th>text</th>\n",
       "      <th>label</th>\n",
       "      <th>snapshot_id</th>\n",
       "    </tr>\n",
       "  </thead>\n",
       "  <tbody>\n",
       "  </tbody>\n",
       "</table>\n",
       "</div>"
      ],
      "text/plain": [
       "Empty DataFrame\n",
       "Columns: [text, label, snapshot_id]\n",
       "Index: []"
      ]
     },
     "execution_count": 16,
     "metadata": {},
     "output_type": "execute_result"
    }
   ],
   "source": [
    "duplicates = df_aug_cybercrime['text'].duplicated(keep=False)\n",
    "df_aug_cybercrime[duplicates]"
   ]
  },
  {
   "cell_type": "code",
   "execution_count": 17,
   "metadata": {},
   "outputs": [
    {
     "data": {
      "text/html": [
       "<div>\n",
       "<style scoped>\n",
       "    .dataframe tbody tr th:only-of-type {\n",
       "        vertical-align: middle;\n",
       "    }\n",
       "\n",
       "    .dataframe tbody tr th {\n",
       "        vertical-align: top;\n",
       "    }\n",
       "\n",
       "    .dataframe thead th {\n",
       "        text-align: right;\n",
       "    }\n",
       "</style>\n",
       "<table border=\"1\" class=\"dataframe\">\n",
       "  <thead>\n",
       "    <tr style=\"text-align: right;\">\n",
       "      <th></th>\n",
       "      <th>text</th>\n",
       "      <th>label</th>\n",
       "      <th>snapshot_id</th>\n",
       "    </tr>\n",
       "  </thead>\n",
       "  <tbody>\n",
       "  </tbody>\n",
       "</table>\n",
       "</div>"
      ],
      "text/plain": [
       "Empty DataFrame\n",
       "Columns: [text, label, snapshot_id]\n",
       "Index: []"
      ]
     },
     "execution_count": 17,
     "metadata": {},
     "output_type": "execute_result"
    }
   ],
   "source": [
    "duplicates = df_aug_weapons_trade['text'].duplicated(keep=False)\n",
    "df_aug_weapons_trade[duplicates]"
   ]
  },
  {
   "cell_type": "code",
   "execution_count": null,
   "metadata": {},
   "outputs": [],
   "source": [
    "duplicates = df_aug_drugs_trade['text'].duplicated(keep=False)\n",
    "df_aug_drugs_trade[duplicates]\n",
    "index = df_aug_drugs_trade[duplicates].index\n",
    "df_aug_drugs_trade = df_aug_drugs_trade.drop(index).reset_index(drop=True)"
   ]
  },
  {
   "cell_type": "markdown",
   "metadata": {},
   "source": [
    "Additional patterns "
   ]
  },
  {
   "cell_type": "code",
   "execution_count": 20,
   "metadata": {},
   "outputs": [],
   "source": [
    "violent_crime = len('Here are 3 more Violent Crime examples')\n",
    "cyber_crime = len('Here are 3 more Cybercrime examples')\n",
    "weapons_trade = len('Here are 3 more Weapons Trade examples')\n",
    "drugs_trade = len('Here are 3 more Drugs and Narcotics examples')"
   ]
  },
  {
   "cell_type": "code",
   "execution_count": 21,
   "metadata": {},
   "outputs": [
    {
     "data": {
      "text/html": [
       "<div>\n",
       "<style scoped>\n",
       "    .dataframe tbody tr th:only-of-type {\n",
       "        vertical-align: middle;\n",
       "    }\n",
       "\n",
       "    .dataframe tbody tr th {\n",
       "        vertical-align: top;\n",
       "    }\n",
       "\n",
       "    .dataframe thead th {\n",
       "        text-align: right;\n",
       "    }\n",
       "</style>\n",
       "<table border=\"1\" class=\"dataframe\">\n",
       "  <thead>\n",
       "    <tr style=\"text-align: right;\">\n",
       "      <th></th>\n",
       "      <th>text</th>\n",
       "      <th>label</th>\n",
       "      <th>snapshot_id</th>\n",
       "    </tr>\n",
       "  </thead>\n",
       "  <tbody>\n",
       "  </tbody>\n",
       "</table>\n",
       "</div>"
      ],
      "text/plain": [
       "Empty DataFrame\n",
       "Columns: [text, label, snapshot_id]\n",
       "Index: []"
      ]
     },
     "execution_count": 21,
     "metadata": {},
     "output_type": "execute_result"
    }
   ],
   "source": [
    "df_aug_violent_crime[df_aug_violent_crime.text.str[:violent_crime] == 'Here are 3 more Violent Crime examples']"
   ]
  },
  {
   "cell_type": "code",
   "execution_count": null,
   "metadata": {},
   "outputs": [],
   "source": [
    "df_aug_violent_crime[df_aug_violent_crime.text.str[:4] == 'Here']"
   ]
  },
  {
   "cell_type": "code",
   "execution_count": null,
   "metadata": {},
   "outputs": [],
   "source": [
    "df_aug_violent_crime[df_aug_violent_crime.text.str[:4] == 'here']\n",
    "df_aug_violent_crime = df_aug_violent_crime.drop([67, 456, 564]).reset_index(drop=True)"
   ]
  },
  {
   "cell_type": "code",
   "execution_count": 25,
   "metadata": {},
   "outputs": [
    {
     "data": {
      "text/html": [
       "<div>\n",
       "<style scoped>\n",
       "    .dataframe tbody tr th:only-of-type {\n",
       "        vertical-align: middle;\n",
       "    }\n",
       "\n",
       "    .dataframe tbody tr th {\n",
       "        vertical-align: top;\n",
       "    }\n",
       "\n",
       "    .dataframe thead th {\n",
       "        text-align: right;\n",
       "    }\n",
       "</style>\n",
       "<table border=\"1\" class=\"dataframe\">\n",
       "  <thead>\n",
       "    <tr style=\"text-align: right;\">\n",
       "      <th></th>\n",
       "      <th>text</th>\n",
       "      <th>label</th>\n",
       "      <th>snapshot_id</th>\n",
       "    </tr>\n",
       "  </thead>\n",
       "  <tbody>\n",
       "  </tbody>\n",
       "</table>\n",
       "</div>"
      ],
      "text/plain": [
       "Empty DataFrame\n",
       "Columns: [text, label, snapshot_id]\n",
       "Index: []"
      ]
     },
     "execution_count": 25,
     "metadata": {},
     "output_type": "execute_result"
    }
   ],
   "source": [
    "df_aug_cybercrime[df_aug_cybercrime.text.str[:cyber_crime] == 'Here are 3 more Cybercrime examples']"
   ]
  },
  {
   "cell_type": "code",
   "execution_count": null,
   "metadata": {},
   "outputs": [],
   "source": [
    "df_aug_cybercrime[df_aug_cybercrime.text.str[:4] == 'Here']"
   ]
  },
  {
   "cell_type": "code",
   "execution_count": 27,
   "metadata": {},
   "outputs": [
    {
     "data": {
      "text/html": [
       "<div>\n",
       "<style scoped>\n",
       "    .dataframe tbody tr th:only-of-type {\n",
       "        vertical-align: middle;\n",
       "    }\n",
       "\n",
       "    .dataframe tbody tr th {\n",
       "        vertical-align: top;\n",
       "    }\n",
       "\n",
       "    .dataframe thead th {\n",
       "        text-align: right;\n",
       "    }\n",
       "</style>\n",
       "<table border=\"1\" class=\"dataframe\">\n",
       "  <thead>\n",
       "    <tr style=\"text-align: right;\">\n",
       "      <th></th>\n",
       "      <th>text</th>\n",
       "      <th>label</th>\n",
       "      <th>snapshot_id</th>\n",
       "    </tr>\n",
       "  </thead>\n",
       "  <tbody>\n",
       "  </tbody>\n",
       "</table>\n",
       "</div>"
      ],
      "text/plain": [
       "Empty DataFrame\n",
       "Columns: [text, label, snapshot_id]\n",
       "Index: []"
      ]
     },
     "execution_count": 27,
     "metadata": {},
     "output_type": "execute_result"
    }
   ],
   "source": [
    "df_aug_cybercrime[df_aug_cybercrime.text.str[:4] == 'here']"
   ]
  },
  {
   "cell_type": "code",
   "execution_count": 28,
   "metadata": {},
   "outputs": [
    {
     "data": {
      "text/html": [
       "<div>\n",
       "<style scoped>\n",
       "    .dataframe tbody tr th:only-of-type {\n",
       "        vertical-align: middle;\n",
       "    }\n",
       "\n",
       "    .dataframe tbody tr th {\n",
       "        vertical-align: top;\n",
       "    }\n",
       "\n",
       "    .dataframe thead th {\n",
       "        text-align: right;\n",
       "    }\n",
       "</style>\n",
       "<table border=\"1\" class=\"dataframe\">\n",
       "  <thead>\n",
       "    <tr style=\"text-align: right;\">\n",
       "      <th></th>\n",
       "      <th>text</th>\n",
       "      <th>label</th>\n",
       "      <th>snapshot_id</th>\n",
       "    </tr>\n",
       "  </thead>\n",
       "  <tbody>\n",
       "  </tbody>\n",
       "</table>\n",
       "</div>"
      ],
      "text/plain": [
       "Empty DataFrame\n",
       "Columns: [text, label, snapshot_id]\n",
       "Index: []"
      ]
     },
     "execution_count": 28,
     "metadata": {},
     "output_type": "execute_result"
    }
   ],
   "source": [
    "df_aug_weapons_trade[df_aug_weapons_trade.text.str[:weapons_trade] == 'Here are 3 more Weapons Trade examples']"
   ]
  },
  {
   "cell_type": "code",
   "execution_count": null,
   "metadata": {},
   "outputs": [],
   "source": [
    "df_aug_weapons_trade[df_aug_weapons_trade.text.str[:4] == 'Here']"
   ]
  },
  {
   "cell_type": "code",
   "execution_count": 30,
   "metadata": {},
   "outputs": [
    {
     "data": {
      "text/html": [
       "<div>\n",
       "<style scoped>\n",
       "    .dataframe tbody tr th:only-of-type {\n",
       "        vertical-align: middle;\n",
       "    }\n",
       "\n",
       "    .dataframe tbody tr th {\n",
       "        vertical-align: top;\n",
       "    }\n",
       "\n",
       "    .dataframe thead th {\n",
       "        text-align: right;\n",
       "    }\n",
       "</style>\n",
       "<table border=\"1\" class=\"dataframe\">\n",
       "  <thead>\n",
       "    <tr style=\"text-align: right;\">\n",
       "      <th></th>\n",
       "      <th>text</th>\n",
       "      <th>label</th>\n",
       "      <th>snapshot_id</th>\n",
       "    </tr>\n",
       "  </thead>\n",
       "  <tbody>\n",
       "  </tbody>\n",
       "</table>\n",
       "</div>"
      ],
      "text/plain": [
       "Empty DataFrame\n",
       "Columns: [text, label, snapshot_id]\n",
       "Index: []"
      ]
     },
     "execution_count": 30,
     "metadata": {},
     "output_type": "execute_result"
    }
   ],
   "source": [
    "df_aug_weapons_trade[df_aug_weapons_trade.text.str[:4] == 'here']"
   ]
  },
  {
   "cell_type": "code",
   "execution_count": 31,
   "metadata": {},
   "outputs": [],
   "source": [
    "df_aug_weapons_trade = df_aug_weapons_trade.drop([102, 423, 590, 702, 761]).reset_index(drop=True)"
   ]
  },
  {
   "cell_type": "code",
   "execution_count": 32,
   "metadata": {},
   "outputs": [
    {
     "data": {
      "text/html": [
       "<div>\n",
       "<style scoped>\n",
       "    .dataframe tbody tr th:only-of-type {\n",
       "        vertical-align: middle;\n",
       "    }\n",
       "\n",
       "    .dataframe tbody tr th {\n",
       "        vertical-align: top;\n",
       "    }\n",
       "\n",
       "    .dataframe thead th {\n",
       "        text-align: right;\n",
       "    }\n",
       "</style>\n",
       "<table border=\"1\" class=\"dataframe\">\n",
       "  <thead>\n",
       "    <tr style=\"text-align: right;\">\n",
       "      <th></th>\n",
       "      <th>text</th>\n",
       "      <th>label</th>\n",
       "      <th>snapshot_id</th>\n",
       "    </tr>\n",
       "  </thead>\n",
       "  <tbody>\n",
       "  </tbody>\n",
       "</table>\n",
       "</div>"
      ],
      "text/plain": [
       "Empty DataFrame\n",
       "Columns: [text, label, snapshot_id]\n",
       "Index: []"
      ]
     },
     "execution_count": 32,
     "metadata": {},
     "output_type": "execute_result"
    }
   ],
   "source": [
    "df_aug_drugs_trade[df_aug_drugs_trade.text.str[:drugs_trade] == 'Here are 3 more Drugs and Narcotics Trade examples']"
   ]
  },
  {
   "cell_type": "code",
   "execution_count": null,
   "metadata": {},
   "outputs": [],
   "source": [
    "df_aug_drugs_trade[df_aug_drugs_trade.text.str[:4] == 'Here']"
   ]
  },
  {
   "cell_type": "code",
   "execution_count": 34,
   "metadata": {},
   "outputs": [
    {
     "data": {
      "text/html": [
       "<div>\n",
       "<style scoped>\n",
       "    .dataframe tbody tr th:only-of-type {\n",
       "        vertical-align: middle;\n",
       "    }\n",
       "\n",
       "    .dataframe tbody tr th {\n",
       "        vertical-align: top;\n",
       "    }\n",
       "\n",
       "    .dataframe thead th {\n",
       "        text-align: right;\n",
       "    }\n",
       "</style>\n",
       "<table border=\"1\" class=\"dataframe\">\n",
       "  <thead>\n",
       "    <tr style=\"text-align: right;\">\n",
       "      <th></th>\n",
       "      <th>text</th>\n",
       "      <th>label</th>\n",
       "      <th>snapshot_id</th>\n",
       "    </tr>\n",
       "  </thead>\n",
       "  <tbody>\n",
       "  </tbody>\n",
       "</table>\n",
       "</div>"
      ],
      "text/plain": [
       "Empty DataFrame\n",
       "Columns: [text, label, snapshot_id]\n",
       "Index: []"
      ]
     },
     "execution_count": 34,
     "metadata": {},
     "output_type": "execute_result"
    }
   ],
   "source": [
    "df_aug_drugs_trade[df_aug_drugs_trade.text.str[:4] == 'here']"
   ]
  },
  {
   "cell_type": "code",
   "execution_count": 35,
   "metadata": {},
   "outputs": [],
   "source": [
    "df_aug_drugs_trade = df_aug_drugs_trade.drop([160, 161, 207, 245, 269, 409, 416, 430 ]).reset_index(drop=True)"
   ]
  },
  {
   "cell_type": "markdown",
   "metadata": {},
   "source": [
    "Remove entries shorter than 10 words"
   ]
  },
  {
   "cell_type": "code",
   "execution_count": 36,
   "metadata": {},
   "outputs": [],
   "source": [
    "df_aug_violent_crime['text_len'] = df_aug_violent_crime['text'].apply(lambda x: len(x.split(' ')))\n",
    "df_aug_cybercrime['text_len'] = df_aug_cybercrime['text'].apply(lambda x: len(x.split(' ')))\n",
    "df_aug_weapons_trade['text_len'] = df_aug_weapons_trade['text'].apply(lambda x: len(x.split(' ')))\n",
    "df_aug_drugs_trade['text_len'] = df_aug_drugs_trade['text'].apply(lambda x: len(x.split(' ')))"
   ]
  },
  {
   "cell_type": "code",
   "execution_count": 37,
   "metadata": {},
   "outputs": [],
   "source": [
    "df_aug_violent_crime_pro = df_aug_violent_crime[df_aug_violent_crime.text_len >= 10].copy()\n",
    "df_aug_cybercrime_pro = df_aug_cybercrime[df_aug_cybercrime.text_len >= 10].copy()\n",
    "df_aug_weapons_trade_pro = df_aug_weapons_trade[df_aug_weapons_trade.text_len >= 10].copy()\n",
    "df_aug_drugs_trade_pro = df_aug_drugs_trade[df_aug_drugs_trade.text_len >= 10].copy()"
   ]
  },
  {
   "cell_type": "markdown",
   "metadata": {},
   "source": [
    "Extend original preprocessing steps"
   ]
  },
  {
   "cell_type": "code",
   "execution_count": 41,
   "metadata": {},
   "outputs": [],
   "source": [
    "df_aug_violent_crime_pro['text'] = df_aug_violent_crime_pro['text'].apply(lambda text: re.sub(r'\\b(?:\\+\\d{1,2}\\s?)?\\(?(?:\\d{1,4})?\\)?[-.\\s]?\\d{1,5}[-.\\s]?\\d{1,5}[-.\\s]?\\d{1,9}\\b', '', text)) #remove phone numbers\n",
    "df_aug_violent_crime_pro['text'] = df_aug_violent_crime_pro['text'].apply(lambda text: re.sub(r'\\b[A-Za-z0-9._%+-]+@[A-Za-z0-9.-]+\\.[A-Z|a-z]{2,7}\\b', '', text)) #remove email addresses\n",
    "df_aug_weapons_trade_pro['text'] = df_aug_weapons_trade_pro['text'].apply(lambda text: re.sub(r'\\b(?:\\+\\d{1,2}\\s?)?\\(?(?:\\d{1,4})?\\)?[-.\\s]?\\d{1,5}[-.\\s]?\\d{1,5}[-.\\s]?\\d{1,9}\\b', '', text)) #remove phone numbers\n",
    "df_aug_weapons_trade_pro['text'] = df_aug_weapons_trade_pro['text'].apply(lambda text: re.sub(r'\\b[A-Za-z0-9._%+-]+@[A-Za-z0-9.-]+\\.[A-Z|a-z]{2,7}\\b', '', text)) #remove email addresses\n",
    "df_aug_cybercrime_pro['text'] = df_aug_cybercrime_pro['text'].apply(lambda text: re.sub(r'\\b(?:\\+\\d{1,2}\\s?)?\\(?(?:\\d{1,4})?\\)?[-.\\s]?\\d{1,5}[-.\\s]?\\d{1,5}[-.\\s]?\\d{1,9}\\b', '', text)) #remove phone numbers\n",
    "df_aug_cybercrime_pro['text'] = df_aug_cybercrime_pro['text'].apply(lambda text: re.sub(r'\\b[A-Za-z0-9._%+-]+@[A-Za-z0-9.-]+\\.[A-Z|a-z]{2,7}\\b', '', text)) #remove email addresses\n",
    "df_aug_drugs_trade_pro['text'] = df_aug_drugs_trade_pro['text'].apply(lambda text: re.sub(r'\\b(?:\\+\\d{1,2}\\s?)?\\(?(?:\\d{1,4})?\\)?[-.\\s]?\\d{1,5}[-.\\s]?\\d{1,5}[-.\\s]?\\d{1,9}\\b', '', text)) #remove phone numbers\n",
    "df_aug_drugs_trade_pro['text'] = df_aug_drugs_trade_pro['text'].apply(lambda text: re.sub(r'\\b[A-Za-z0-9._%+-]+@[A-Za-z0-9.-]+\\.[A-Z|a-z]{2,7}\\b', '', text)) #remove email addresses"
   ]
  },
  {
   "cell_type": "code",
   "execution_count": 42,
   "metadata": {},
   "outputs": [],
   "source": [
    "df_aug_violent_crime_pro['text'] = df_aug_violent_crime_pro['text'].apply(lambda text: re.sub(r'[^\\x00-\\x7F]+', '', text)) #removes non basic ASCII character, to remove non English characters\n",
    "df_aug_violent_crime_pro['text'] = df_aug_violent_crime_pro['text'].apply(lambda text: re.sub(r'[^\\w\\s.?!,:;\\'\"\\d-]', '', text)) #removes uncommon punctuation\n",
    "df_aug_weapons_trade_pro['text'] = df_aug_weapons_trade_pro['text'].apply(lambda text: re.sub(r'[^\\x00-\\x7F]+', '', text)) #removes non basic ASCII character, to remove non English characters\n",
    "df_aug_weapons_trade_pro['text'] = df_aug_weapons_trade_pro['text'].apply(lambda text: re.sub(r'[^\\w\\s.?!,:;\\'\"\\d-]', '', text)) #removes uncommon punctuation\n",
    "df_aug_cybercrime_pro['text'] = df_aug_cybercrime_pro['text'].apply(lambda text: re.sub(r'[^\\x00-\\x7F]+', '', text)) #removes non basic ASCII character, to remove non English characters\n",
    "df_aug_cybercrime_pro['text'] = df_aug_cybercrime_pro['text'].apply(lambda text: re.sub(r'[^\\w\\s.?!,:;\\'\"\\d-]', '', text)) #removes uncommon punctuation\n",
    "df_aug_drugs_trade_pro['text'] = df_aug_drugs_trade_pro['text'].apply(lambda text: re.sub(r'[^\\x00-\\x7F]+', '', text)) #removes non basic ASCII character, to remove non English characters\n",
    "df_aug_drugs_trade_pro['text'] = df_aug_drugs_trade_pro['text'].apply(lambda text: re.sub(r'[^\\w\\s.?!,:;\\'\"\\d-]', '', text)) #removes uncommon punctuation"
   ]
  },
  {
   "cell_type": "code",
   "execution_count": 43,
   "metadata": {},
   "outputs": [
    {
     "data": {
      "text/plain": [
       "((701, 4), (435, 4), (756, 4), (139, 4))"
      ]
     },
     "execution_count": 43,
     "metadata": {},
     "output_type": "execute_result"
    }
   ],
   "source": [
    "df_aug_violent_crime_pro.shape, df_aug_drugs_trade_pro.shape, df_aug_weapons_trade_pro.shape, df_aug_cybercrime_pro.shape"
   ]
  },
  {
   "cell_type": "code",
   "execution_count": 45,
   "metadata": {},
   "outputs": [],
   "source": [
    "df_aug_violent_crime_pro.to_csv('processed_datasets/aug_violent_crime_pro.csv')\n",
    "df_aug_cybercrime_pro.to_csv('processed_datasets/aug_cybercrime_pro.csv')\n",
    "df_aug_weapons_trade_pro.to_csv('processed_datasets/aug_weapons_trade_pro.csv')\n",
    "df_aug_drugs_trade_pro.to_csv('processed_datasets/aug_drugs_trade_pro.csv')"
   ]
  },
  {
   "cell_type": "markdown",
   "metadata": {},
   "source": [
    "Train augmented"
   ]
  },
  {
   "cell_type": "code",
   "execution_count": 46,
   "metadata": {},
   "outputs": [],
   "source": [
    "df_aug_violent_crime_pro = pd.read_csv('processed_datasets/aug_violent_crime_pro.csv', index_col=0)\n",
    "df_aug_cybercrime_pro = pd.read_csv('processed_datasets/aug_cybercrime_pro.csv', index_col=0)\n",
    "df_aug_weapons_trade_pro = pd.read_csv('processed_datasets/aug_weapons_trade_pro.csv', index_col=0)\n",
    "df_aug_drugs_trade_pro = pd.read_csv('processed_datasets/aug_drugs_trade_pro.csv', index_col=0)"
   ]
  },
  {
   "cell_type": "code",
   "execution_count": 47,
   "metadata": {},
   "outputs": [],
   "source": [
    "df_train = pd.read_csv('nolower_datasplit/train_nolower.csv', index_col=0)"
   ]
  },
  {
   "cell_type": "code",
   "execution_count": 48,
   "metadata": {},
   "outputs": [
    {
     "data": {
      "text/plain": [
       "((701, 11), (493, 3))"
      ]
     },
     "execution_count": 48,
     "metadata": {},
     "output_type": "execute_result"
    }
   ],
   "source": [
    "df_merge_violent_crime = pd.merge(df_aug_violent_crime_pro, df_train, how='left', on='snapshot_id', indicator=True)\n",
    "x = df_merge_violent_crime[df_merge_violent_crime._merge == 'both'][['text_x', 'label_x', 'snapshot_id']]\n",
    "x.columns = [['text', 'label', 'snapshot_id']]\n",
    "x.to_csv('processed_datasets/aug_violent_crime_train.csv')\n",
    "df_merge_violent_crime.shape, x.shape"
   ]
  },
  {
   "cell_type": "code",
   "execution_count": 49,
   "metadata": {},
   "outputs": [
    {
     "data": {
      "text/plain": [
       "((139, 11), (139, 3))"
      ]
     },
     "execution_count": 49,
     "metadata": {},
     "output_type": "execute_result"
    }
   ],
   "source": [
    "df_merge_cybercrime = pd.merge(df_aug_cybercrime_pro, df_train, how='left', on='snapshot_id', indicator=True)\n",
    "x = df_merge_cybercrime[df_merge_cybercrime._merge == 'both'][['text_x', 'label_x', 'snapshot_id']]\n",
    "x.columns = [['text', 'label', 'snapshot_id']]\n",
    "x.to_csv('processed_datasets/aug_cybercrime_train.csv')\n",
    "df_merge_cybercrime.shape, x.shape"
   ]
  },
  {
   "cell_type": "code",
   "execution_count": 50,
   "metadata": {},
   "outputs": [
    {
     "data": {
      "text/plain": [
       "((756, 11), (570, 3))"
      ]
     },
     "execution_count": 50,
     "metadata": {},
     "output_type": "execute_result"
    }
   ],
   "source": [
    "df_merge_weapons_trade = pd.merge(df_aug_weapons_trade_pro, df_train, how='left', on='snapshot_id', indicator=True)\n",
    "x = df_merge_weapons_trade[df_merge_weapons_trade._merge == 'both'][['text_x', 'label_x', 'snapshot_id']]\n",
    "x.columns = [['text', 'label', 'snapshot_id']]\n",
    "x.to_csv('processed_datasets/aug_weapons_trade_train.csv')\n",
    "df_merge_weapons_trade.shape, x.shape"
   ]
  },
  {
   "cell_type": "code",
   "execution_count": 51,
   "metadata": {},
   "outputs": [
    {
     "data": {
      "text/plain": [
       "((435, 11), (322, 3))"
      ]
     },
     "execution_count": 51,
     "metadata": {},
     "output_type": "execute_result"
    }
   ],
   "source": [
    "df_merge_drugs_trade = pd.merge(df_aug_drugs_trade_pro, df_train, how='left', on='snapshot_id', indicator=True)\n",
    "x = df_merge_drugs_trade[df_merge_drugs_trade._merge == 'both'][['text_x', 'label_x', 'snapshot_id']]\n",
    "x.columns = [['text', 'label', 'snapshot_id']]\n",
    "x.to_csv('processed_datasets/aug_drugs_trade_train.csv')\n",
    "df_merge_drugs_trade.shape, x.shape"
   ]
  },
  {
   "cell_type": "markdown",
   "metadata": {},
   "source": [
    "Sampling for few shot augmentation"
   ]
  },
  {
   "cell_type": "markdown",
   "metadata": {},
   "source": [
    "Train set"
   ]
  },
  {
   "cell_type": "code",
   "execution_count": 52,
   "metadata": {},
   "outputs": [],
   "source": [
    "df_aug_violent_crime_train = pd.read_csv('processed_datasets/aug_violent_crime_train.csv', index_col=0)\n",
    "df_aug_cybercrime_train = pd.read_csv('processed_datasets/aug_cybercrime_train.csv', index_col=0)\n",
    "df_aug_weapons_trade_train = pd.read_csv('processed_datasets/aug_weapons_trade_train.csv', index_col=0)\n",
    "df_aug_drugs_trade_train = pd.read_csv('processed_datasets/aug_drugs_trade_train.csv', index_col=0)"
   ]
  },
  {
   "cell_type": "code",
   "execution_count": null,
   "metadata": {},
   "outputs": [],
   "source": [
    "sample_violent_crime_train = df_aug_violent_crime_train.sample(n=15, random_state=42)\n",
    "sample_violent_crime_all = pd.merge(sample_violent_crime_train[['text', 'snapshot_id', 'label']], df_train[['text', 'snapshot_id']], on= 'snapshot_id', how='left', suffixes=('_synthetic', '_original'))\n",
    "sample_violent_crime_all"
   ]
  },
  {
   "cell_type": "code",
   "execution_count": null,
   "metadata": {},
   "outputs": [],
   "source": [
    "sample_cybercrime_train = df_aug_cybercrime_train.sample(n=15, random_state=42)\n",
    "sample_cybercrime_all = pd.merge(sample_cybercrime_train[['text', 'snapshot_id', 'label']], df_train[['text', 'snapshot_id']], on= 'snapshot_id', how='left', suffixes=('_synthetic', '_original'))\n",
    "sample_cybercrime_all"
   ]
  },
  {
   "cell_type": "code",
   "execution_count": null,
   "metadata": {},
   "outputs": [],
   "source": [
    "sample_weapons_trade_train = df_aug_weapons_trade_train.sample(n=15, random_state=42)\n",
    "sample_weapons_trade_all = pd.merge(sample_weapons_trade_train[['text', 'snapshot_id', 'label']], df_train[['text', 'snapshot_id']], on= 'snapshot_id', how='left', suffixes=('_synthetic', '_original'))\n",
    "sample_weapons_trade_all"
   ]
  },
  {
   "cell_type": "code",
   "execution_count": null,
   "metadata": {},
   "outputs": [],
   "source": [
    "sample_drugs_trade_train = df_aug_drugs_trade_train.sample(n=15, random_state=42)\n",
    "sample_drugs_trade_all = pd.merge(sample_drugs_trade_train[['text', 'snapshot_id', 'label']], df_train[['text', 'snapshot_id']], on= 'snapshot_id', how='left', suffixes=('_synthetic', '_original'))\n",
    "sample_drugs_trade_all"
   ]
  },
  {
   "cell_type": "code",
   "execution_count": 57,
   "metadata": {},
   "outputs": [],
   "source": [
    "sample_violent_crime_all.to_csv('samples/zs_sample_violent_crime.csv')\n",
    "sample_cybercrime_all.to_csv('samples/zs_sample_cybercrime.csv')\n",
    "sample_weapons_trade_all.to_csv('samples/zs_sample_weapons_trade.csv')\n",
    "sample_drugs_trade_all.to_csv('samples/zs_sample_drugs_trade.csv')"
   ]
  }
 ],
 "metadata": {
  "kernelspec": {
   "display_name": "project_env",
   "language": "python",
   "name": "python3"
  },
  "language_info": {
   "codemirror_mode": {
    "name": "ipython",
    "version": 3
   },
   "file_extension": ".py",
   "mimetype": "text/x-python",
   "name": "python",
   "nbconvert_exporter": "python",
   "pygments_lexer": "ipython3",
   "version": "3.10.13"
  }
 },
 "nbformat": 4,
 "nbformat_minor": 2
}
