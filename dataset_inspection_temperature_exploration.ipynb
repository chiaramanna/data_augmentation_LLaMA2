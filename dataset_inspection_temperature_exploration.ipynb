{
 "cells": [
  {
   "cell_type": "code",
   "execution_count": 1,
   "metadata": {},
   "outputs": [],
   "source": [
    "import pandas as pd\n"
   ]
  },
  {
   "cell_type": "code",
   "execution_count": 2,
   "metadata": {},
   "outputs": [],
   "source": [
    "df_train = pd.read_csv('nolower_datasplit/train_nolower.csv', index_col=0)\n",
    "df_val = pd.read_csv('nolower_datasplit/val_nolower.csv', index_col=0)"
   ]
  },
  {
   "cell_type": "markdown",
   "metadata": {},
   "source": [
    "Temperature = 0.3"
   ]
  },
  {
   "cell_type": "markdown",
   "metadata": {},
   "source": [
    "For 0.3 temperature, the generation was called on the trainval set at first so the cleaning steps also involve excluding entries from the validation set and the corresponding augmented examples. This was then avoided for the 0.8 by using the training set directly. Otherwise no preprocessing steps are applied and raw output is considered."
   ]
  },
  {
   "cell_type": "code",
   "execution_count": 3,
   "metadata": {},
   "outputs": [],
   "source": [
    "df1 = pd.read_csv('datasets_temp/3/aug_violent_crime_03temp_1.csv', index_col=0)\n",
    "df2 = pd.read_csv('datasets_temp/3/aug_violent_crime_03temp_2.csv', index_col=0)\n",
    "df3 = pd.read_csv('datasets_temp/3/aug_violent_crime_03temp_3.csv', index_col=0)\n",
    "df4 = pd.read_csv('datasets_temp/3/aug_violent_crime_03temp_4.csv', index_col=0)\n",
    "df5 = pd.read_csv('datasets_temp/3/aug_violent_crime_03temp_5.csv', index_col=0)\n",
    "df6 = pd.read_csv('datasets_temp/3/aug_violent_crime_03temp_6.csv', index_col=0)\n",
    "df7 = pd.read_csv('datasets_temp/3/aug_violent_crime_03temp_7.csv', index_col=0)\n",
    "df8 = pd.read_csv('datasets_temp/3/aug_violent_crime_03temp_8.csv', index_col=0)\n",
    "df9 = pd.read_csv('datasets_temp/3/aug_violent_crime_03temp_9.csv', index_col=0)\n",
    "df10 = pd.read_csv('datasets_temp/3/aug_violent_crime_03temp_10.csv', index_col=0)\n",
    "df_violent_crime_4bit_03 = pd.concat([df1, df2, df3, df4, df5, df6, df7, df8, df9, df10], ignore_index=True)"
   ]
  },
  {
   "cell_type": "code",
   "execution_count": 4,
   "metadata": {},
   "outputs": [],
   "source": [
    "df_merge = pd.merge(df_violent_crime_4bit_03, df_val, on='snapshot_id', how='left', indicator=True)"
   ]
  },
  {
   "cell_type": "code",
   "execution_count": null,
   "metadata": {},
   "outputs": [],
   "source": [
    "x = df_merge[df_merge._merge == 'left_only'][['text_x', 'label_x', 'snapshot_id', 'is synthetic']]\n",
    "x.columns = ['text', 'label', 'snapshot_id', 'is synthetic']\n",
    "y = x[x['is synthetic'] == True]\n",
    "y"
   ]
  },
  {
   "cell_type": "code",
   "execution_count": 6,
   "metadata": {},
   "outputs": [],
   "source": [
    "x.to_csv('datasets_temp/3/aug_violent_crime_03temp_tot.csv') #extracted only example from train set, as generation call erroneously included train and val"
   ]
  },
  {
   "cell_type": "code",
   "execution_count": 7,
   "metadata": {},
   "outputs": [],
   "source": [
    "df1 = pd.read_csv('datasets_temp/3/aug_weapons_trade_03temp_1.csv')\n",
    "df2 = pd.read_csv('datasets_temp/3/aug_weapons_trade_03temp_2.csv')\n",
    "df3 = pd.read_csv('datasets_temp/3/aug_weapons_trade_03temp_3.csv')\n",
    "df4 = pd.read_csv('datasets_temp/3/aug_weapons_trade_03temp_4.csv')\n",
    "df5 = pd.read_csv('datasets_temp/3/aug_weapons_trade_03temp_5.csv')\n",
    "df6 = pd.read_csv('datasets_temp/3/aug_weapons_trade_03temp_6.csv')\n",
    "df_weapons_trade_4bit_03 = pd.concat([df1, df2, df3, df4, df5, df6], ignore_index=True)"
   ]
  },
  {
   "cell_type": "code",
   "execution_count": 8,
   "metadata": {},
   "outputs": [],
   "source": [
    "df_merge_2 = pd.merge(df_weapons_trade_4bit_03, df_val, how='left', on='snapshot_id', indicator=True)"
   ]
  },
  {
   "cell_type": "code",
   "execution_count": null,
   "metadata": {},
   "outputs": [],
   "source": [
    "x = df_merge_2[df_merge_2._merge == 'left_only'][['text_x', 'label_x', 'snapshot_id', 'is synthetic']]\n",
    "x.columns = ['text', 'label', 'snapshot_id', 'is synthetic']\n",
    "y = x[x['is synthetic'] == True]\n",
    "y"
   ]
  },
  {
   "cell_type": "code",
   "execution_count": 10,
   "metadata": {},
   "outputs": [],
   "source": [
    "x.to_csv('datasets_temp/3/aug_weapons_trade_03temp_tot.csv')"
   ]
  },
  {
   "cell_type": "code",
   "execution_count": 11,
   "metadata": {},
   "outputs": [],
   "source": [
    "df1 = pd.read_csv('datasets_temp/3/aug_drugs_trade_03temp_1.csv')\n",
    "df2 = pd.read_csv('datasets_temp/3/aug_drugs_trade_03temp_2.csv')\n",
    "df_drugs_trade_4bit_03 = pd.concat([df1, df2], ignore_index=True)"
   ]
  },
  {
   "cell_type": "code",
   "execution_count": 12,
   "metadata": {},
   "outputs": [],
   "source": [
    "df_merge_3 = pd.merge(df_drugs_trade_4bit_03, df_val, how='left', on='snapshot_id', indicator=True)"
   ]
  },
  {
   "cell_type": "code",
   "execution_count": null,
   "metadata": {},
   "outputs": [],
   "source": [
    "x = df_merge_3[df_merge_3._merge == 'left_only'][['text_x', 'label_x', 'snapshot_id', 'is synthetic']]\n",
    "x.columns = ['text', 'label', 'snapshot_id', 'is synthetic']\n",
    "y = x[x['is synthetic'] == True]\n",
    "y"
   ]
  },
  {
   "cell_type": "code",
   "execution_count": 14,
   "metadata": {},
   "outputs": [],
   "source": [
    "x.to_csv('datasets_temp/3/aug_drugs_trade_03temp_tot.csv')"
   ]
  },
  {
   "cell_type": "code",
   "execution_count": 15,
   "metadata": {},
   "outputs": [],
   "source": [
    "df_cybercrime_4bit_03 = pd.read_csv('datasets_temp/3/aug_cybercrime_03temp_1.csv')"
   ]
  },
  {
   "cell_type": "code",
   "execution_count": 16,
   "metadata": {},
   "outputs": [],
   "source": [
    "df_merge_4 = pd.merge(df_cybercrime_4bit_03, df_val, how='left', on='snapshot_id', indicator=True)"
   ]
  },
  {
   "cell_type": "code",
   "execution_count": null,
   "metadata": {},
   "outputs": [],
   "source": [
    "x = df_merge_4[df_merge_4._merge == 'left_only'][['text_x', 'label_x', 'snapshot_id', 'is synthetic']]\n",
    "x.columns = ['text', 'label', 'snapshot_id', 'is synthetic']\n",
    "y = x[x['is synthetic'] == True]\n",
    "y"
   ]
  },
  {
   "cell_type": "code",
   "execution_count": 18,
   "metadata": {},
   "outputs": [],
   "source": [
    "x.to_csv('datasets_temp/3/aug_cybercrime_03temp_tot.csv')"
   ]
  },
  {
   "cell_type": "markdown",
   "metadata": {},
   "source": [
    "Temperature = 0.8"
   ]
  },
  {
   "cell_type": "code",
   "execution_count": 19,
   "metadata": {},
   "outputs": [
    {
     "data": {
      "text/plain": [
       "(744, 5)"
      ]
     },
     "execution_count": 19,
     "metadata": {},
     "output_type": "execute_result"
    }
   ],
   "source": [
    "df1 = pd.read_csv('datasets_temp/8/aug_violent_crime_08temp_1.csv')\n",
    "df2 = pd.read_csv('datasets_temp/8/aug_violent_crime_08temp_2.csv')\n",
    "df3 = pd.read_csv('datasets_temp/8/aug_violent_crime_08temp_3.csv')\n",
    "df4 = pd.read_csv('datasets_temp/8/aug_violent_crime_08temp_4.csv')\n",
    "df5 = pd.read_csv('datasets_temp/8/aug_violent_crime_08temp_5.csv')\n",
    "df6 = pd.read_csv('datasets_temp/8/aug_violent_crime_08temp_6.csv')\n",
    "df7 = pd.read_csv('datasets_temp/8/aug_violent_crime_08temp_7.csv')\n",
    "df8 = pd.read_csv('datasets_temp/8/aug_violent_crime_08temp_8.csv')\n",
    "df9 = pd.read_csv('datasets_temp/8/aug_violent_crime_08temp_9.csv')\n",
    "df10 = pd.read_csv('datasets_temp/8/aug_violent_crime_08temp_10.csv')\n",
    "df11 = pd.read_csv('datasets_temp/8/aug_violent_crime_08temp_11.csv')\n",
    "df12 = pd.read_csv('datasets_temp/8/aug_violent_crime_08temp_12.csv')\n",
    "df13 = pd.read_csv('datasets_temp/8/aug_violent_crime_08temp_13.csv')\n",
    "df14 = pd.read_csv('datasets_temp/8/aug_violent_crime_08temp_14.csv')\n",
    "df15 = pd.read_csv('datasets_temp/8/aug_violent_crime_08temp_15.csv')\n",
    "df16 = pd.read_csv('datasets_temp/8/aug_violent_crime_08temp_16.csv')\n",
    "df17 = pd.read_csv('datasets_temp/8/aug_violent_crime_08temp_17.csv')\n",
    "df18 = pd.read_csv('datasets_temp/8/aug_violent_crime_08temp_18.csv')\n",
    "df_violent_crime_4bit_08 = pd.concat([df1, df2, df3, df4, df5, df6, df7, df8, df9, df10, df11, df12, df13, df14, df15, df16, df17, df18], ignore_index=True)\n",
    "df_violent_crime_4bit_08[df_violent_crime_4bit_08['is synthetic'] == True].shape"
   ]
  },
  {
   "cell_type": "code",
   "execution_count": 20,
   "metadata": {},
   "outputs": [],
   "source": [
    "df_violent_crime_4bit_08.to_csv('datasets_temp/8/aug_violent_crime_08temp_tot.csv')"
   ]
  },
  {
   "cell_type": "code",
   "execution_count": 21,
   "metadata": {},
   "outputs": [
    {
     "data": {
      "text/plain": [
       "(609, 5)"
      ]
     },
     "execution_count": 21,
     "metadata": {},
     "output_type": "execute_result"
    }
   ],
   "source": [
    "df1 = pd.read_csv('datasets_temp/8/aug_weapons_trade_08temp_1.csv')\n",
    "df2 = pd.read_csv('datasets_temp/8/aug_weapons_trade_08temp_2.csv')\n",
    "df3 = pd.read_csv('datasets_temp/8/aug_weapons_trade_08temp_3.csv')\n",
    "df4 = pd.read_csv('datasets_temp/8/aug_weapons_trade_08temp_4.csv')\n",
    "df5 = pd.read_csv('datasets_temp/8/aug_weapons_trade_08temp_5.csv')\n",
    "df6 = pd.read_csv('datasets_temp/8/aug_weapons_trade_08temp_6.csv')\n",
    "df7 = pd.read_csv('datasets_temp/8/aug_weapons_trade_08temp_7.csv')\n",
    "df8 = pd.read_csv('datasets_temp/8/aug_weapons_trade_08temp_8.csv')\n",
    "df9 = pd.read_csv('datasets_temp/8/aug_weapons_trade_08temp_9.csv')\n",
    "df10 = pd.read_csv('datasets_temp/8/aug_weapons_trade_08temp_10.csv')\n",
    "df_weapons_trade_4bit_08 = pd.concat([df1, df2, df3, df4, df5, df6, df7, df8, df9, df10], ignore_index=True)\n",
    "df_weapons_trade_4bit_08[df_weapons_trade_4bit_08['is synthetic'] == True].shape"
   ]
  },
  {
   "cell_type": "code",
   "execution_count": 22,
   "metadata": {},
   "outputs": [],
   "source": [
    "df_weapons_trade_4bit_08.to_csv('datasets_temp/8/aug_weapons_trade_08temp_tot.csv')"
   ]
  },
  {
   "cell_type": "code",
   "execution_count": 23,
   "metadata": {},
   "outputs": [],
   "source": [
    "df1 = pd.read_csv('datasets_temp/8/aug_cybercrime_08temp_1.csv')\n",
    "df1.to_csv('datasets_temp/8/aug_cybercrime_08temp_tot.csv')"
   ]
  },
  {
   "cell_type": "code",
   "execution_count": 24,
   "metadata": {},
   "outputs": [
    {
     "data": {
      "text/plain": [
       "(429, 5)"
      ]
     },
     "execution_count": 24,
     "metadata": {},
     "output_type": "execute_result"
    }
   ],
   "source": [
    "df1 = pd.read_csv('datasets_temp/8/aug_drugs_trade_08temp_1.csv')\n",
    "df2 = pd.read_csv('datasets_temp/8/aug_drugs_trade_08temp_2.csv')\n",
    "df3 = pd.read_csv('datasets_temp/8/aug_drugs_trade_08temp_3.csv')\n",
    "df_drugs_trade_4bit_08 = pd.concat([df1, df2, df3], ignore_index=True)\n",
    "df_drugs_trade_4bit_08[df_drugs_trade_4bit_08['is synthetic'] == True].shape"
   ]
  },
  {
   "cell_type": "code",
   "execution_count": 25,
   "metadata": {},
   "outputs": [],
   "source": [
    "df_drugs_trade_4bit_08.to_csv('datasets_temp/8/aug_drugs_trade_08temp_tot.csv')"
   ]
  },
  {
   "cell_type": "code",
   "execution_count": 26,
   "metadata": {},
   "outputs": [
    {
     "data": {
      "text/plain": [
       "(46, 5)"
      ]
     },
     "execution_count": 26,
     "metadata": {},
     "output_type": "execute_result"
    }
   ],
   "source": [
    "df1 = pd.read_csv('datasets_temp/12/aug_weapons_trade_12temp_1.csv')\n",
    "df2 = pd.read_csv('datasets_temp/12/aug_weapons_trade_12temp_2.csv')\n",
    "df3 = pd.read_csv('datasets_temp/12/aug_weapons_trade_12temp_3.csv')\n",
    "df_weapons_trade_4bit_12 = pd.concat([df1, df2, df3], ignore_index=True)\n",
    "df_weapons_trade_4bit_12[df_weapons_trade_4bit_12['is synthetic'] == True].shape"
   ]
  },
  {
   "cell_type": "code",
   "execution_count": 27,
   "metadata": {},
   "outputs": [
    {
     "data": {
      "text/plain": [
       "(14, 5)"
      ]
     },
     "execution_count": 27,
     "metadata": {},
     "output_type": "execute_result"
    }
   ],
   "source": [
    "df1 = pd.read_csv('datasets_temp/12/aug_cybercrime_12temp_1.csv')\n",
    "df1[df1['is synthetic'] == True].shape"
   ]
  },
  {
   "cell_type": "code",
   "execution_count": 28,
   "metadata": {},
   "outputs": [
    {
     "data": {
      "text/plain": [
       "(56, 5)"
      ]
     },
     "execution_count": 28,
     "metadata": {},
     "output_type": "execute_result"
    }
   ],
   "source": [
    "df1 = pd.read_csv('datasets_temp/12/aug_violent_crime_12temp_1.csv')\n",
    "df2 = pd.read_csv('datasets_temp/12/aug_violent_crime_12temp_2.csv')\n",
    "df3 = pd.read_csv('datasets_temp/12/aug_violent_crime_12temp_3.csv')\n",
    "df4 = pd.read_csv('datasets_temp/12/aug_violent_crime_12temp_4.csv')\n",
    "df5 = pd.read_csv('datasets_temp/12/aug_violent_crime_12temp_5.csv')\n",
    "df6 = pd.read_csv('datasets_temp/12/aug_violent_crime_12temp_6.csv')\n",
    "df7 = pd.read_csv('datasets_temp/12/aug_violent_crime_12temp_7.csv')\n",
    "df8 = pd.read_csv('datasets_temp/12/aug_violent_crime_12temp_8.csv')\n",
    "df_violent_crime_4bit_12 = pd.concat([df1, df2, df3, df4, df5, df6, df7, df8], ignore_index=True)\n",
    "df_violent_crime_4bit_12[df_violent_crime_4bit_12['is synthetic'] == True].shape"
   ]
  },
  {
   "cell_type": "markdown",
   "metadata": {},
   "source": [
    "Concluded approach with 1.2 temp is infeasible, output not coherent, takes too long to extract enough data"
   ]
  }
 ],
 "metadata": {
  "kernelspec": {
   "display_name": "project_env",
   "language": "python",
   "name": "python3"
  },
  "language_info": {
   "codemirror_mode": {
    "name": "ipython",
    "version": 3
   },
   "file_extension": ".py",
   "mimetype": "text/x-python",
   "name": "python",
   "nbconvert_exporter": "python",
   "pygments_lexer": "ipython3",
   "version": "3.10.13"
  }
 },
 "nbformat": 4,
 "nbformat_minor": 2
}
