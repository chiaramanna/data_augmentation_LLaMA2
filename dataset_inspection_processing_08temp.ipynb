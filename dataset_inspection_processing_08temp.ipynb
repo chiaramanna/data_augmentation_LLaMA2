{
 "cells": [
  {
   "cell_type": "code",
   "execution_count": 2,
   "metadata": {},
   "outputs": [],
   "source": [
    "import pandas as pd\n",
    "import numpy\n",
    "import re"
   ]
  },
  {
   "cell_type": "code",
   "execution_count": 2,
   "metadata": {},
   "outputs": [],
   "source": [
    "aug_084bit_violent_crime = pd.read_csv('datasets_temp/8/aug_violent_crime_08temp_tot.csv', index_col=0).reset_index(drop=True)\n",
    "aug_084bit_weapons_trade = pd.read_csv('datasets_temp/8/aug_weapons_trade_08temp_tot.csv', index_col=0).reset_index(drop=True)\n",
    "aug_084bit_drugs_trade = pd.read_csv('datasets_temp/8/aug_drugs_trade_08temp_tot.csv', index_col=0).reset_index(drop=True)\n",
    "aug_084bit_cybercrime = pd.read_csv('datasets_temp/8/aug_cybercrime_08temp_tot.csv', index_col=0).reset_index(drop=True)\n",
    "\n",
    "aug_084bit_violent_crime = aug_084bit_violent_crime[aug_084bit_violent_crime['is synthetic'] == True][['text', 'label', 'snapshot_id']]\n",
    "aug_084bit_weapons_trade = aug_084bit_weapons_trade[aug_084bit_weapons_trade['is synthetic'] == True][['text', 'label', 'snapshot_id']]\n",
    "aug_084bit_drugs_trade = aug_084bit_drugs_trade[aug_084bit_drugs_trade['is synthetic'] == True][['text', 'label', 'snapshot_id']]\n",
    "aug_084bit_cybercrime = aug_084bit_cybercrime[aug_084bit_cybercrime['is synthetic'] == True][['text', 'label', 'snapshot_id']]"
   ]
  },
  {
   "cell_type": "code",
   "execution_count": 3,
   "metadata": {},
   "outputs": [
    {
     "data": {
      "text/plain": [
       "((744, 3), (609, 3), (429, 3), (172, 3))"
      ]
     },
     "execution_count": 3,
     "metadata": {},
     "output_type": "execute_result"
    }
   ],
   "source": [
    "aug_084bit_violent_crime.shape, aug_084bit_weapons_trade.shape, aug_084bit_drugs_trade.shape, aug_084bit_cybercrime.shape"
   ]
  },
  {
   "cell_type": "markdown",
   "metadata": {},
   "source": [
    "Remove duplicates"
   ]
  },
  {
   "cell_type": "code",
   "execution_count": null,
   "metadata": {},
   "outputs": [],
   "source": [
    "duplicates = aug_084bit_violent_crime.duplicated(keep=False)\n",
    "#aug_084bit_violent_crime[duplicates].shape\n",
    "aug_084bit_violent_crime[duplicates]"
   ]
  },
  {
   "cell_type": "code",
   "execution_count": 5,
   "metadata": {},
   "outputs": [],
   "source": [
    "aug_084bit_violent_crime = aug_084bit_violent_crime.drop([340, 349, 350, 351, 510, 564, 835, 836, 918, 919, 983,1014, 1148, 1149, 1186, 1187, 1188, 1302] ).reset_index(drop=True)"
   ]
  },
  {
   "cell_type": "code",
   "execution_count": null,
   "metadata": {},
   "outputs": [],
   "source": [
    "duplicates = aug_084bit_weapons_trade.duplicated(keep=False)\n",
    "#aug_084bit_weapons_trade[duplicates].shape\n",
    "aug_084bit_weapons_trade[duplicates]"
   ]
  },
  {
   "cell_type": "code",
   "execution_count": 7,
   "metadata": {},
   "outputs": [],
   "source": [
    "aug_084bit_weapons_trade = aug_084bit_weapons_trade.drop([115, 116, 142, 347, 350, 351, 438, 439, 663, 664, 789, 898, 937, 938, 1161, 1162, 1196] ).reset_index(drop=True)"
   ]
  },
  {
   "cell_type": "code",
   "execution_count": null,
   "metadata": {},
   "outputs": [],
   "source": [
    "duplicates = aug_084bit_drugs_trade.duplicated(keep=False)\n",
    "#aug_084bit_drugs_trade[duplicates].shape\n",
    "aug_084bit_drugs_trade[duplicates]"
   ]
  },
  {
   "cell_type": "code",
   "execution_count": 9,
   "metadata": {},
   "outputs": [],
   "source": [
    "aug_084bit_drugs_trade = aug_084bit_drugs_trade.drop([80, 340, 341, 368, 369, 378, 379, 393, 418, 595, 596, 726, 727, 728, 751] ).reset_index(drop=True)"
   ]
  },
  {
   "cell_type": "code",
   "execution_count": null,
   "metadata": {},
   "outputs": [],
   "source": [
    "duplicates = aug_084bit_cybercrime.duplicated(keep=False)\n",
    "#aug_084bit_cybercrime[duplicates].shape\n",
    "aug_084bit_cybercrime[duplicates]"
   ]
  },
  {
   "cell_type": "code",
   "execution_count": 11,
   "metadata": {},
   "outputs": [],
   "source": [
    "aug_084bit_cybercrime = aug_084bit_cybercrime.drop([163, 164, 194] ).reset_index(drop=True)"
   ]
  },
  {
   "cell_type": "code",
   "execution_count": 12,
   "metadata": {},
   "outputs": [
    {
     "data": {
      "text/html": [
       "<div>\n",
       "<style scoped>\n",
       "    .dataframe tbody tr th:only-of-type {\n",
       "        vertical-align: middle;\n",
       "    }\n",
       "\n",
       "    .dataframe tbody tr th {\n",
       "        vertical-align: top;\n",
       "    }\n",
       "\n",
       "    .dataframe thead th {\n",
       "        text-align: right;\n",
       "    }\n",
       "</style>\n",
       "<table border=\"1\" class=\"dataframe\">\n",
       "  <thead>\n",
       "    <tr style=\"text-align: right;\">\n",
       "      <th></th>\n",
       "      <th>text</th>\n",
       "      <th>label</th>\n",
       "      <th>snapshot_id</th>\n",
       "    </tr>\n",
       "  </thead>\n",
       "  <tbody>\n",
       "  </tbody>\n",
       "</table>\n",
       "</div>"
      ],
      "text/plain": [
       "Empty DataFrame\n",
       "Columns: [text, label, snapshot_id]\n",
       "Index: []"
      ]
     },
     "execution_count": 12,
     "metadata": {},
     "output_type": "execute_result"
    }
   ],
   "source": [
    "duplicates = aug_084bit_violent_crime['text'].duplicated(keep=False)\n",
    "aug_084bit_violent_crime[duplicates]"
   ]
  },
  {
   "cell_type": "code",
   "execution_count": 13,
   "metadata": {},
   "outputs": [
    {
     "data": {
      "text/html": [
       "<div>\n",
       "<style scoped>\n",
       "    .dataframe tbody tr th:only-of-type {\n",
       "        vertical-align: middle;\n",
       "    }\n",
       "\n",
       "    .dataframe tbody tr th {\n",
       "        vertical-align: top;\n",
       "    }\n",
       "\n",
       "    .dataframe thead th {\n",
       "        text-align: right;\n",
       "    }\n",
       "</style>\n",
       "<table border=\"1\" class=\"dataframe\">\n",
       "  <thead>\n",
       "    <tr style=\"text-align: right;\">\n",
       "      <th></th>\n",
       "      <th>text</th>\n",
       "      <th>label</th>\n",
       "      <th>snapshot_id</th>\n",
       "    </tr>\n",
       "  </thead>\n",
       "  <tbody>\n",
       "  </tbody>\n",
       "</table>\n",
       "</div>"
      ],
      "text/plain": [
       "Empty DataFrame\n",
       "Columns: [text, label, snapshot_id]\n",
       "Index: []"
      ]
     },
     "execution_count": 13,
     "metadata": {},
     "output_type": "execute_result"
    }
   ],
   "source": [
    "duplicates = aug_084bit_weapons_trade['text'].duplicated(keep=False)\n",
    "aug_084bit_weapons_trade[duplicates]"
   ]
  },
  {
   "cell_type": "code",
   "execution_count": 14,
   "metadata": {},
   "outputs": [
    {
     "data": {
      "text/html": [
       "<div>\n",
       "<style scoped>\n",
       "    .dataframe tbody tr th:only-of-type {\n",
       "        vertical-align: middle;\n",
       "    }\n",
       "\n",
       "    .dataframe tbody tr th {\n",
       "        vertical-align: top;\n",
       "    }\n",
       "\n",
       "    .dataframe thead th {\n",
       "        text-align: right;\n",
       "    }\n",
       "</style>\n",
       "<table border=\"1\" class=\"dataframe\">\n",
       "  <thead>\n",
       "    <tr style=\"text-align: right;\">\n",
       "      <th></th>\n",
       "      <th>text</th>\n",
       "      <th>label</th>\n",
       "      <th>snapshot_id</th>\n",
       "    </tr>\n",
       "  </thead>\n",
       "  <tbody>\n",
       "  </tbody>\n",
       "</table>\n",
       "</div>"
      ],
      "text/plain": [
       "Empty DataFrame\n",
       "Columns: [text, label, snapshot_id]\n",
       "Index: []"
      ]
     },
     "execution_count": 14,
     "metadata": {},
     "output_type": "execute_result"
    }
   ],
   "source": [
    "duplicates = aug_084bit_cybercrime['text'].duplicated(keep=False)\n",
    "aug_084bit_cybercrime[duplicates]"
   ]
  },
  {
   "cell_type": "code",
   "execution_count": null,
   "metadata": {},
   "outputs": [],
   "source": [
    "duplicates = aug_084bit_drugs_trade['text'].duplicated(keep=False)\n",
    "aug_084bit_drugs_trade[duplicates]"
   ]
  },
  {
   "cell_type": "code",
   "execution_count": 16,
   "metadata": {},
   "outputs": [],
   "source": [
    "aug_084bit_violent_crime = aug_084bit_violent_crime.drop([210, 345, 392] ).reset_index(drop=True)"
   ]
  },
  {
   "cell_type": "markdown",
   "metadata": {},
   "source": [
    "Additional patterns"
   ]
  },
  {
   "cell_type": "code",
   "execution_count": 17,
   "metadata": {},
   "outputs": [],
   "source": [
    "violent_crime = len('Here are 3 more Violent Crime examples')\n",
    "cyber_crime = len('Here are 3 more Cybercrime examples')\n",
    "weapons_trade = len('Here are 3 more Weapons Trade examples')\n",
    "drugs_trade = len('Here are 3 more Drugs and Narcotics examples')"
   ]
  },
  {
   "cell_type": "code",
   "execution_count": null,
   "metadata": {},
   "outputs": [],
   "source": [
    "aug_084bit_violent_crime[aug_084bit_violent_crime.text.str[:violent_crime] == 'Here are 3 more Violent Crime examples']"
   ]
  },
  {
   "cell_type": "code",
   "execution_count": 19,
   "metadata": {},
   "outputs": [],
   "source": [
    "aug_084bit_violent_crime = aug_084bit_violent_crime.drop([264, 265] ).reset_index(drop=True)"
   ]
  },
  {
   "cell_type": "code",
   "execution_count": null,
   "metadata": {},
   "outputs": [],
   "source": [
    "aug_084bit_violent_crime[aug_084bit_violent_crime.text.str[:4] == 'Here']"
   ]
  },
  {
   "cell_type": "code",
   "execution_count": 21,
   "metadata": {},
   "outputs": [
    {
     "data": {
      "text/html": [
       "<div>\n",
       "<style scoped>\n",
       "    .dataframe tbody tr th:only-of-type {\n",
       "        vertical-align: middle;\n",
       "    }\n",
       "\n",
       "    .dataframe tbody tr th {\n",
       "        vertical-align: top;\n",
       "    }\n",
       "\n",
       "    .dataframe thead th {\n",
       "        text-align: right;\n",
       "    }\n",
       "</style>\n",
       "<table border=\"1\" class=\"dataframe\">\n",
       "  <thead>\n",
       "    <tr style=\"text-align: right;\">\n",
       "      <th></th>\n",
       "      <th>text</th>\n",
       "      <th>label</th>\n",
       "      <th>snapshot_id</th>\n",
       "    </tr>\n",
       "  </thead>\n",
       "  <tbody>\n",
       "  </tbody>\n",
       "</table>\n",
       "</div>"
      ],
      "text/plain": [
       "Empty DataFrame\n",
       "Columns: [text, label, snapshot_id]\n",
       "Index: []"
      ]
     },
     "execution_count": 21,
     "metadata": {},
     "output_type": "execute_result"
    }
   ],
   "source": [
    "aug_084bit_violent_crime[aug_084bit_violent_crime.text.str[:4] == 'here']"
   ]
  },
  {
   "cell_type": "code",
   "execution_count": 22,
   "metadata": {},
   "outputs": [
    {
     "data": {
      "text/html": [
       "<div>\n",
       "<style scoped>\n",
       "    .dataframe tbody tr th:only-of-type {\n",
       "        vertical-align: middle;\n",
       "    }\n",
       "\n",
       "    .dataframe tbody tr th {\n",
       "        vertical-align: top;\n",
       "    }\n",
       "\n",
       "    .dataframe thead th {\n",
       "        text-align: right;\n",
       "    }\n",
       "</style>\n",
       "<table border=\"1\" class=\"dataframe\">\n",
       "  <thead>\n",
       "    <tr style=\"text-align: right;\">\n",
       "      <th></th>\n",
       "      <th>text</th>\n",
       "      <th>label</th>\n",
       "      <th>snapshot_id</th>\n",
       "    </tr>\n",
       "  </thead>\n",
       "  <tbody>\n",
       "  </tbody>\n",
       "</table>\n",
       "</div>"
      ],
      "text/plain": [
       "Empty DataFrame\n",
       "Columns: [text, label, snapshot_id]\n",
       "Index: []"
      ]
     },
     "execution_count": 22,
     "metadata": {},
     "output_type": "execute_result"
    }
   ],
   "source": [
    "aug_084bit_cybercrime[aug_084bit_cybercrime.text.str[:cyber_crime] == 'Here are 3 more Cybercrime examples']"
   ]
  },
  {
   "cell_type": "code",
   "execution_count": 23,
   "metadata": {},
   "outputs": [
    {
     "data": {
      "text/html": [
       "<div>\n",
       "<style scoped>\n",
       "    .dataframe tbody tr th:only-of-type {\n",
       "        vertical-align: middle;\n",
       "    }\n",
       "\n",
       "    .dataframe tbody tr th {\n",
       "        vertical-align: top;\n",
       "    }\n",
       "\n",
       "    .dataframe thead th {\n",
       "        text-align: right;\n",
       "    }\n",
       "</style>\n",
       "<table border=\"1\" class=\"dataframe\">\n",
       "  <thead>\n",
       "    <tr style=\"text-align: right;\">\n",
       "      <th></th>\n",
       "      <th>text</th>\n",
       "      <th>label</th>\n",
       "      <th>snapshot_id</th>\n",
       "    </tr>\n",
       "  </thead>\n",
       "  <tbody>\n",
       "  </tbody>\n",
       "</table>\n",
       "</div>"
      ],
      "text/plain": [
       "Empty DataFrame\n",
       "Columns: [text, label, snapshot_id]\n",
       "Index: []"
      ]
     },
     "execution_count": 23,
     "metadata": {},
     "output_type": "execute_result"
    }
   ],
   "source": [
    "aug_084bit_cybercrime[aug_084bit_cybercrime.text.str[:4] == 'Here']"
   ]
  },
  {
   "cell_type": "code",
   "execution_count": 24,
   "metadata": {},
   "outputs": [
    {
     "data": {
      "text/html": [
       "<div>\n",
       "<style scoped>\n",
       "    .dataframe tbody tr th:only-of-type {\n",
       "        vertical-align: middle;\n",
       "    }\n",
       "\n",
       "    .dataframe tbody tr th {\n",
       "        vertical-align: top;\n",
       "    }\n",
       "\n",
       "    .dataframe thead th {\n",
       "        text-align: right;\n",
       "    }\n",
       "</style>\n",
       "<table border=\"1\" class=\"dataframe\">\n",
       "  <thead>\n",
       "    <tr style=\"text-align: right;\">\n",
       "      <th></th>\n",
       "      <th>text</th>\n",
       "      <th>label</th>\n",
       "      <th>snapshot_id</th>\n",
       "    </tr>\n",
       "  </thead>\n",
       "  <tbody>\n",
       "  </tbody>\n",
       "</table>\n",
       "</div>"
      ],
      "text/plain": [
       "Empty DataFrame\n",
       "Columns: [text, label, snapshot_id]\n",
       "Index: []"
      ]
     },
     "execution_count": 24,
     "metadata": {},
     "output_type": "execute_result"
    }
   ],
   "source": [
    "aug_084bit_cybercrime[aug_084bit_cybercrime.text.str[:4] == 'here']"
   ]
  },
  {
   "cell_type": "code",
   "execution_count": 25,
   "metadata": {},
   "outputs": [
    {
     "data": {
      "text/html": [
       "<div>\n",
       "<style scoped>\n",
       "    .dataframe tbody tr th:only-of-type {\n",
       "        vertical-align: middle;\n",
       "    }\n",
       "\n",
       "    .dataframe tbody tr th {\n",
       "        vertical-align: top;\n",
       "    }\n",
       "\n",
       "    .dataframe thead th {\n",
       "        text-align: right;\n",
       "    }\n",
       "</style>\n",
       "<table border=\"1\" class=\"dataframe\">\n",
       "  <thead>\n",
       "    <tr style=\"text-align: right;\">\n",
       "      <th></th>\n",
       "      <th>text</th>\n",
       "      <th>label</th>\n",
       "      <th>snapshot_id</th>\n",
       "    </tr>\n",
       "  </thead>\n",
       "  <tbody>\n",
       "  </tbody>\n",
       "</table>\n",
       "</div>"
      ],
      "text/plain": [
       "Empty DataFrame\n",
       "Columns: [text, label, snapshot_id]\n",
       "Index: []"
      ]
     },
     "execution_count": 25,
     "metadata": {},
     "output_type": "execute_result"
    }
   ],
   "source": [
    "aug_084bit_weapons_trade[aug_084bit_weapons_trade.text.str[:weapons_trade] == 'Here are 3 more Weapons Trade examples']"
   ]
  },
  {
   "cell_type": "code",
   "execution_count": null,
   "metadata": {},
   "outputs": [],
   "source": [
    "aug_084bit_weapons_trade[aug_084bit_weapons_trade.text.str[:4] == 'Here']"
   ]
  },
  {
   "cell_type": "code",
   "execution_count": 27,
   "metadata": {},
   "outputs": [
    {
     "data": {
      "text/html": [
       "<div>\n",
       "<style scoped>\n",
       "    .dataframe tbody tr th:only-of-type {\n",
       "        vertical-align: middle;\n",
       "    }\n",
       "\n",
       "    .dataframe tbody tr th {\n",
       "        vertical-align: top;\n",
       "    }\n",
       "\n",
       "    .dataframe thead th {\n",
       "        text-align: right;\n",
       "    }\n",
       "</style>\n",
       "<table border=\"1\" class=\"dataframe\">\n",
       "  <thead>\n",
       "    <tr style=\"text-align: right;\">\n",
       "      <th></th>\n",
       "      <th>text</th>\n",
       "      <th>label</th>\n",
       "      <th>snapshot_id</th>\n",
       "    </tr>\n",
       "  </thead>\n",
       "  <tbody>\n",
       "  </tbody>\n",
       "</table>\n",
       "</div>"
      ],
      "text/plain": [
       "Empty DataFrame\n",
       "Columns: [text, label, snapshot_id]\n",
       "Index: []"
      ]
     },
     "execution_count": 27,
     "metadata": {},
     "output_type": "execute_result"
    }
   ],
   "source": [
    "aug_084bit_weapons_trade[aug_084bit_weapons_trade.text.str[:4] == 'here']\n"
   ]
  },
  {
   "cell_type": "code",
   "execution_count": 28,
   "metadata": {},
   "outputs": [],
   "source": [
    "aug_084bit_weapons_trade = aug_084bit_weapons_trade.drop([157, 370]).reset_index(drop=True)"
   ]
  },
  {
   "cell_type": "code",
   "execution_count": 29,
   "metadata": {},
   "outputs": [
    {
     "data": {
      "text/html": [
       "<div>\n",
       "<style scoped>\n",
       "    .dataframe tbody tr th:only-of-type {\n",
       "        vertical-align: middle;\n",
       "    }\n",
       "\n",
       "    .dataframe tbody tr th {\n",
       "        vertical-align: top;\n",
       "    }\n",
       "\n",
       "    .dataframe thead th {\n",
       "        text-align: right;\n",
       "    }\n",
       "</style>\n",
       "<table border=\"1\" class=\"dataframe\">\n",
       "  <thead>\n",
       "    <tr style=\"text-align: right;\">\n",
       "      <th></th>\n",
       "      <th>text</th>\n",
       "      <th>label</th>\n",
       "      <th>snapshot_id</th>\n",
       "    </tr>\n",
       "  </thead>\n",
       "  <tbody>\n",
       "  </tbody>\n",
       "</table>\n",
       "</div>"
      ],
      "text/plain": [
       "Empty DataFrame\n",
       "Columns: [text, label, snapshot_id]\n",
       "Index: []"
      ]
     },
     "execution_count": 29,
     "metadata": {},
     "output_type": "execute_result"
    }
   ],
   "source": [
    "aug_084bit_drugs_trade[aug_084bit_drugs_trade.text.str[:drugs_trade] == 'Here are 3 more Drugs and Narcotics Trade examples']"
   ]
  },
  {
   "cell_type": "code",
   "execution_count": null,
   "metadata": {},
   "outputs": [],
   "source": [
    "aug_084bit_drugs_trade[aug_084bit_drugs_trade.text.str[:4] == 'Here']"
   ]
  },
  {
   "cell_type": "code",
   "execution_count": 31,
   "metadata": {},
   "outputs": [
    {
     "data": {
      "text/html": [
       "<div>\n",
       "<style scoped>\n",
       "    .dataframe tbody tr th:only-of-type {\n",
       "        vertical-align: middle;\n",
       "    }\n",
       "\n",
       "    .dataframe tbody tr th {\n",
       "        vertical-align: top;\n",
       "    }\n",
       "\n",
       "    .dataframe thead th {\n",
       "        text-align: right;\n",
       "    }\n",
       "</style>\n",
       "<table border=\"1\" class=\"dataframe\">\n",
       "  <thead>\n",
       "    <tr style=\"text-align: right;\">\n",
       "      <th></th>\n",
       "      <th>text</th>\n",
       "      <th>label</th>\n",
       "      <th>snapshot_id</th>\n",
       "    </tr>\n",
       "  </thead>\n",
       "  <tbody>\n",
       "  </tbody>\n",
       "</table>\n",
       "</div>"
      ],
      "text/plain": [
       "Empty DataFrame\n",
       "Columns: [text, label, snapshot_id]\n",
       "Index: []"
      ]
     },
     "execution_count": 31,
     "metadata": {},
     "output_type": "execute_result"
    }
   ],
   "source": [
    "aug_084bit_drugs_trade[aug_084bit_drugs_trade.text.str[:4] == 'here']"
   ]
  },
  {
   "cell_type": "code",
   "execution_count": 32,
   "metadata": {},
   "outputs": [],
   "source": [
    "aug_084bit_drugs_trade = aug_084bit_drugs_trade.drop([51,210,229, 345, 392]).reset_index(drop=True)"
   ]
  },
  {
   "cell_type": "markdown",
   "metadata": {},
   "source": [
    "Exclude entries with text length < 10"
   ]
  },
  {
   "cell_type": "code",
   "execution_count": 33,
   "metadata": {},
   "outputs": [],
   "source": [
    "aug_084bit_violent_crime['text_len'] = aug_084bit_violent_crime['text'].apply(lambda x: len(x.split(' ')))\n",
    "aug_084bit_weapons_trade['text_len'] = aug_084bit_weapons_trade['text'].apply(lambda x: len(x.split(' ')))\n",
    "aug_084bit_drugs_trade['text_len'] = aug_084bit_drugs_trade['text'].apply(lambda x: len(x.split(' ')))\n",
    "aug_084bit_cybercrime['text_len'] = aug_084bit_cybercrime['text'].apply(lambda x: len(x.split(' ')))"
   ]
  },
  {
   "cell_type": "code",
   "execution_count": 34,
   "metadata": {},
   "outputs": [],
   "source": [
    "df_aug_violent_crime_pro = aug_084bit_violent_crime[aug_084bit_violent_crime.text_len >= 10].copy()\n",
    "df_aug_cybercrime_pro = aug_084bit_cybercrime[aug_084bit_cybercrime.text_len >= 10].copy()\n",
    "df_aug_weapons_trade_pro = aug_084bit_weapons_trade[aug_084bit_weapons_trade.text_len >= 10].copy()\n",
    "df_aug_drugs_trade_pro = aug_084bit_drugs_trade[aug_084bit_drugs_trade.text_len >= 10].copy()"
   ]
  },
  {
   "cell_type": "markdown",
   "metadata": {},
   "source": [
    "Extend original preprocessing steps"
   ]
  },
  {
   "cell_type": "code",
   "execution_count": 36,
   "metadata": {},
   "outputs": [],
   "source": [
    "df_aug_violent_crime_pro['text'] = df_aug_violent_crime_pro['text'].apply(lambda text: re.sub(r'\\b(?:\\+\\d{1,2}\\s?)?\\(?(?:\\d{1,4})?\\)?[-.\\s]?\\d{1,5}[-.\\s]?\\d{1,5}[-.\\s]?\\d{1,9}\\b', '', text)) #remove phone numbers\n",
    "df_aug_violent_crime_pro['text'] = df_aug_violent_crime_pro['text'].apply(lambda text: re.sub(r'\\b[A-Za-z0-9._%+-]+@[A-Za-z0-9.-]+\\.[A-Z|a-z]{2,7}\\b', '', text)) #remove email addresses\n",
    "df_aug_weapons_trade_pro['text'] = df_aug_weapons_trade_pro['text'].apply(lambda text: re.sub(r'\\b(?:\\+\\d{1,2}\\s?)?\\(?(?:\\d{1,4})?\\)?[-.\\s]?\\d{1,5}[-.\\s]?\\d{1,5}[-.\\s]?\\d{1,9}\\b', '', text)) #remove phone numbers\n",
    "df_aug_weapons_trade_pro['text'] = df_aug_weapons_trade_pro['text'].apply(lambda text: re.sub(r'\\b[A-Za-z0-9._%+-]+@[A-Za-z0-9.-]+\\.[A-Z|a-z]{2,7}\\b', '', text)) #remove email addresses\n",
    "df_aug_cybercrime_pro['text'] = df_aug_cybercrime_pro['text'].apply(lambda text: re.sub(r'\\b(?:\\+\\d{1,2}\\s?)?\\(?(?:\\d{1,4})?\\)?[-.\\s]?\\d{1,5}[-.\\s]?\\d{1,5}[-.\\s]?\\d{1,9}\\b', '', text)) #remove phone numbers\n",
    "df_aug_cybercrime_pro['text'] = df_aug_cybercrime_pro['text'].apply(lambda text: re.sub(r'\\b[A-Za-z0-9._%+-]+@[A-Za-z0-9.-]+\\.[A-Z|a-z]{2,7}\\b', '', text)) #remove email addresses\n",
    "df_aug_drugs_trade_pro['text'] = df_aug_drugs_trade_pro['text'].apply(lambda text: re.sub(r'\\b(?:\\+\\d{1,2}\\s?)?\\(?(?:\\d{1,4})?\\)?[-.\\s]?\\d{1,5}[-.\\s]?\\d{1,5}[-.\\s]?\\d{1,9}\\b', '', text)) #remove phone numbers\n",
    "df_aug_drugs_trade_pro['text'] = df_aug_drugs_trade_pro['text'].apply(lambda text: re.sub(r'\\b[A-Za-z0-9._%+-]+@[A-Za-z0-9.-]+\\.[A-Z|a-z]{2,7}\\b', '', text)) #remove email addresses\n"
   ]
  },
  {
   "cell_type": "code",
   "execution_count": 37,
   "metadata": {},
   "outputs": [],
   "source": [
    "df_aug_violent_crime_pro['text'] = df_aug_violent_crime_pro['text'].apply(lambda text: re.sub(r'[^\\x00-\\x7F]+', '', text)) #removes non basic ASCII character, to remove non English characters\n",
    "df_aug_violent_crime_pro['text'] = df_aug_violent_crime_pro['text'].apply(lambda text: re.sub(r'[^\\w\\s.?!,:;\\'\"\\d-]', '', text)) #removes uncommon punctuation\n",
    "df_aug_weapons_trade_pro['text'] = df_aug_weapons_trade_pro['text'].apply(lambda text: re.sub(r'[^\\x00-\\x7F]+', '', text)) #removes non basic ASCII character, to remove non English characters\n",
    "df_aug_weapons_trade_pro['text'] = df_aug_weapons_trade_pro['text'].apply(lambda text: re.sub(r'[^\\w\\s.?!,:;\\'\"\\d-]', '', text)) #removes uncommon punctuation\n",
    "df_aug_cybercrime_pro['text'] = df_aug_cybercrime_pro['text'].apply(lambda text: re.sub(r'[^\\x00-\\x7F]+', '', text)) #removes non basic ASCII character, to remove non English characters\n",
    "df_aug_cybercrime_pro['text'] = df_aug_cybercrime_pro['text'].apply(lambda text: re.sub(r'[^\\w\\s.?!,:;\\'\"\\d-]', '', text)) #removes uncommon punctuation\n",
    "df_aug_drugs_trade_pro['text'] = df_aug_drugs_trade_pro['text'].apply(lambda text: re.sub(r'[^\\x00-\\x7F]+', '', text)) #removes non basic ASCII character, to remove non English characters\n",
    "df_aug_drugs_trade_pro['text'] = df_aug_drugs_trade_pro['text'].apply(lambda text: re.sub(r'[^\\w\\s.?!,:;\\'\"\\d-]', '', text)) #removes uncommon punctuation"
   ]
  },
  {
   "cell_type": "code",
   "execution_count": 38,
   "metadata": {},
   "outputs": [
    {
     "data": {
      "text/plain": [
       "((695, 4), (394, 4), (572, 4), (168, 4))"
      ]
     },
     "execution_count": 38,
     "metadata": {},
     "output_type": "execute_result"
    }
   ],
   "source": [
    "df_aug_violent_crime_pro.shape, df_aug_drugs_trade_pro.shape, df_aug_weapons_trade_pro.shape, df_aug_cybercrime_pro.shape"
   ]
  },
  {
   "cell_type": "markdown",
   "metadata": {},
   "source": [
    "Train augmented"
   ]
  },
  {
   "cell_type": "code",
   "execution_count": 39,
   "metadata": {},
   "outputs": [],
   "source": [
    "df_aug_violent_crime_pro.to_csv('processed_datasets_08/aug_violent_crime_08_pro.csv') #these are all from the training set only!\n",
    "df_aug_cybercrime_pro.to_csv('processed_datasets_08/aug_cybercrime_08_pro.csv')\n",
    "df_aug_weapons_trade_pro.to_csv('processed_datasets_08/aug_weapons_trade_08_pro.csv')\n",
    "df_aug_drugs_trade_pro.to_csv('processed_datasets_08/aug_drugs_trade_08_pro.csv')"
   ]
  },
  {
   "cell_type": "markdown",
   "metadata": {},
   "source": [
    "Sampling for few shot augmentation"
   ]
  },
  {
   "cell_type": "markdown",
   "metadata": {},
   "source": [
    "Train set"
   ]
  },
  {
   "cell_type": "code",
   "execution_count": 41,
   "metadata": {},
   "outputs": [],
   "source": [
    "df_train = pd.read_csv('nolower_datasplit/train_nolower.csv', index_col=0) #for the FS as well we only sample example from the train set"
   ]
  },
  {
   "cell_type": "code",
   "execution_count": null,
   "metadata": {},
   "outputs": [],
   "source": [
    "sample_violent_crime_train = df_aug_violent_crime_pro.sample(n=15, random_state=42)\n",
    "sample_violent_crime_all = pd.merge(sample_violent_crime_train[['text', 'snapshot_id', 'label']], df_train[['text', 'snapshot_id']], on= 'snapshot_id', how='left', suffixes=('_synthetic', '_original'))\n",
    "sample_violent_crime_all"
   ]
  },
  {
   "cell_type": "code",
   "execution_count": null,
   "metadata": {},
   "outputs": [],
   "source": [
    "sample_cybercrime_train = df_aug_cybercrime_pro.sample(n=15, random_state=42)\n",
    "sample_cybercrime_all = pd.merge(sample_cybercrime_train[['text', 'snapshot_id', 'label']], df_train[['text', 'snapshot_id']], on= 'snapshot_id', how='left', suffixes=('_synthetic', '_original'))\n",
    "sample_cybercrime_all"
   ]
  },
  {
   "cell_type": "code",
   "execution_count": null,
   "metadata": {},
   "outputs": [],
   "source": [
    "sample_weapons_trade_train = df_aug_weapons_trade_pro.sample(n=15, random_state=42)\n",
    "sample_weapons_trade_all = pd.merge(sample_weapons_trade_train[['text', 'snapshot_id', 'label']], df_train[['text', 'snapshot_id']], on= 'snapshot_id', how='left', suffixes=('_synthetic', '_original'))\n",
    "sample_weapons_trade_all"
   ]
  },
  {
   "cell_type": "code",
   "execution_count": null,
   "metadata": {},
   "outputs": [],
   "source": [
    "sample_drugs_trade_train = df_aug_drugs_trade_pro.sample(n=15, random_state=42)\n",
    "sample_drugs_trade_all = pd.merge(sample_drugs_trade_train[['text', 'snapshot_id', 'label']], df_train[['text', 'snapshot_id']], on= 'snapshot_id', how='left', suffixes=('_synthetic', '_original'))\n",
    "sample_drugs_trade_all"
   ]
  },
  {
   "cell_type": "code",
   "execution_count": 46,
   "metadata": {},
   "outputs": [],
   "source": [
    "sample_violent_crime_all.to_csv('samples/zs_sample_violent_crime_08.csv')\n",
    "sample_cybercrime_all.to_csv('samples/zs_sample_cybercrime_08.csv')\n",
    "sample_weapons_trade_all.to_csv('samples/zs_sample_weapons_trade_08.csv')\n",
    "sample_drugs_trade_all.to_csv('samples/zs_sample_drugs_trade_08.csv')"
   ]
  },
  {
   "cell_type": "markdown",
   "metadata": {},
   "source": [
    "Few shot augmented datasets - Trainval"
   ]
  },
  {
   "cell_type": "markdown",
   "metadata": {},
   "source": [
    "We present sample from the train but the augmentation is done on the trainval set"
   ]
  },
  {
   "cell_type": "code",
   "execution_count": null,
   "metadata": {},
   "outputs": [],
   "source": [
    "df1 = pd.read_csv('datasets_snapshot_id/aug_violent_crime_FS_08_1.csv', index_col=0)\n",
    "df2 = pd.read_csv('datasets_snapshot_id/aug_violent_crime_FS_08_2.csv', index_col=0)\n",
    "df3 = pd.read_csv('datasets_snapshot_id/aug_violent_crime_FS_08_3.csv', index_col=0)\n",
    "df4 = pd.read_csv('datasets_snapshot_id/aug_violent_crime_FS_08_4.csv', index_col=0)\n",
    "df5 = pd.read_csv('datasets_snapshot_id/aug_violent_crime_FS_08_5.csv', index_col=0)\n",
    "df6 = pd.read_csv('datasets_snapshot_id/aug_violent_crime_FS_08_6.csv', index_col=0)\n",
    "df7 = pd.read_csv('datasets_snapshot_id/aug_violent_crime_FS_08_7.csv', index_col=0)\n",
    "df8 = pd.read_csv('datasets_snapshot_id/aug_violent_crime_FS_08_8.csv', index_col=0)\n",
    "df9 = pd.read_csv('datasets_snapshot_id/aug_violent_crime_FS_08_9.csv', index_col=0)\n",
    "df10 = pd.read_csv('datasets_snapshot_id/aug_violent_crime_FS_08_10.csv', index_col=0)\n",
    "df11 = pd.read_csv('datasets_snapshot_id/aug_violent_crime_FS_08_11.csv', index_col=0)\n",
    "df12 = pd.read_csv('datasets_snapshot_id/aug_violent_crime_FS_08_12.csv', index_col=0)\n",
    "df13 = pd.read_csv('datasets_snapshot_id/aug_violent_crime_FS_08_13.csv', index_col=0)\n",
    "df14= pd.read_csv('datasets_snapshot_id/aug_violent_crime_FS_08_14.csv', index_col=0)\n",
    "df15 = pd.read_csv('datasets_snapshot_id/aug_violent_crime_FS_08_15.csv', index_col=0)\n",
    "df16 = pd.read_csv('datasets_snapshot_id/aug_violent_crime_FS_08_16.csv', index_col=0)\n",
    "df17 = pd.read_csv('datasets_snapshot_id/aug_violent_crime_FS_08_17.csv', index_col=0)\n",
    "df18 = pd.read_csv('datasets_snapshot_id/aug_violent_crime_FS_08_18.csv', index_col=0)\n",
    "df19 = pd.read_csv('datasets_snapshot_id/aug_violent_crime_FS_08_19.csv', index_col=0)\n",
    "df20 = pd.read_csv('datasets_snapshot_id/aug_violent_crime_FS_08_20.csv', index_col=0)\n",
    "\n",
    "df_all = pd.concat([df1, df2, df3, df4, df5, df6, df7, df8, df9, df10, df11, df12, df13, df14, df15, df16, df17, df18, df19, df20], ignore_index=True)\n",
    "df_all_synt_violent_crime = df_all[df_all['is synthetic'] == True].copy()\n",
    "df_all_synt_violent_crime"
   ]
  },
  {
   "cell_type": "markdown",
   "metadata": {},
   "source": [
    "Remove duplicates"
   ]
  },
  {
   "cell_type": "code",
   "execution_count": null,
   "metadata": {},
   "outputs": [],
   "source": [
    "duplicates = df_all_synt_violent_crime.duplicated(keep=False)\n",
    "df_all_synt_violent_crime[duplicates]"
   ]
  },
  {
   "cell_type": "code",
   "execution_count": 5,
   "metadata": {},
   "outputs": [],
   "source": [
    "df_all_synt_violent_crime = df_all_synt_violent_crime.drop([12, 143, 384, 501, 676, 783, 917, 934, 1006, 1213, 1331, 1457]).reset_index(drop=True)"
   ]
  },
  {
   "cell_type": "code",
   "execution_count": null,
   "metadata": {},
   "outputs": [],
   "source": [
    "duplicates = df_all_synt_violent_crime['text'].duplicated(keep=False)\n",
    "df_all_synt_violent_crime[duplicates]"
   ]
  },
  {
   "cell_type": "code",
   "execution_count": 7,
   "metadata": {},
   "outputs": [],
   "source": [
    "df_all_synt_violent_crime = df_all_synt_violent_crime.drop([262, 302, 311, 419, 450, 498, 522, 559, 583, 585, 605]).reset_index(drop=True)"
   ]
  },
  {
   "cell_type": "markdown",
   "metadata": {},
   "source": [
    "Further cleaning steps"
   ]
  },
  {
   "cell_type": "code",
   "execution_count": 8,
   "metadata": {},
   "outputs": [],
   "source": [
    "df_all_synt_violent_crime['text'] = df_all_synt_violent_crime['text'].apply(lambda x: re.sub(r'\\s{2,}|#', ' ', x)) #remove long spaces and # resulting from extraction process"
   ]
  },
  {
   "cell_type": "code",
   "execution_count": 9,
   "metadata": {},
   "outputs": [],
   "source": [
    "df_all_synt_violent_crime['text'] = df_all_synt_violent_crime['text'].apply(lambda x: re.sub(r'(www|http[s]?)(\\S*)', '', x, flags=re.MULTILINE)) #remove links\n"
   ]
  },
  {
   "cell_type": "code",
   "execution_count": 10,
   "metadata": {},
   "outputs": [],
   "source": [
    "df_all_synt_violent_crime['text'] = df_all_synt_violent_crime['text'].apply(lambda text: re.sub(r'\\b(?:\\+\\d{1,2}\\s?)?\\(?(?:\\d{1,4})?\\)?[-.\\s]?\\d{1,5}[-.\\s]?\\d{1,5}[-.\\s]?\\d{1,9}\\b', '', text)) #remove phone numbers\n",
    "df_all_synt_violent_crime['text'] = df_all_synt_violent_crime['text'].apply(lambda text: re.sub(r'\\b[A-Za-z0-9._%+-]+@[A-Za-z0-9.-]+\\.[A-Z|a-z]{2,7}\\b', '', text)) #remove email addresses\n",
    "df_all_synt_violent_crime['text'] = df_all_synt_violent_crime['text'].apply(lambda text: re.sub(r'[^\\x00-\\x7F]+', '', text)) #removes non basic ASCII character, to remove non English characters\n",
    "df_all_synt_violent_crime['text'] = df_all_synt_violent_crime['text'].apply(lambda text: re.sub(r'[^\\w\\s.?!,:;\\'\"\\d-]', '', text)) #removes uncommon punctuation"
   ]
  },
  {
   "cell_type": "code",
   "execution_count": 13,
   "metadata": {},
   "outputs": [
    {
     "data": {
      "text/plain": [
       "(662, 5)"
      ]
     },
     "execution_count": 13,
     "metadata": {},
     "output_type": "execute_result"
    }
   ],
   "source": [
    "df_all_synt_violent_crime['text_len'] = df_all_synt_violent_crime['text'].apply(lambda x: len(x.split(' ')))\n",
    "df_all_synt_violent_crime = df_all_synt_violent_crime[df_all_synt_violent_crime.text_len >= 10].copy()\n",
    "df_all_synt_violent_crime.shape"
   ]
  },
  {
   "cell_type": "code",
   "execution_count": 14,
   "metadata": {},
   "outputs": [],
   "source": [
    "df_all_synt_violent_crime.to_csv('processed_datasets_08/aug_violent_crime_08_trainval_FS.csv')"
   ]
  },
  {
   "cell_type": "code",
   "execution_count": null,
   "metadata": {},
   "outputs": [],
   "source": [
    "df1 = pd.read_csv('datasets_snapshot_id/aug_weapons_trade_FS_08_1.csv', index_col=0)\n",
    "df2 = pd.read_csv('datasets_snapshot_id/aug_weapons_trade_FS_08_2.csv', index_col=0)\n",
    "df3 = pd.read_csv('datasets_snapshot_id/aug_weapons_trade_FS_08_3.csv', index_col=0)\n",
    "df4 = pd.read_csv('datasets_snapshot_id/aug_weapons_trade_FS_08_4.csv', index_col=0)\n",
    "df5 = pd.read_csv('datasets_snapshot_id/aug_weapons_trade_FS_08_5.csv', index_col=0)\n",
    "df6 = pd.read_csv('datasets_snapshot_id/aug_weapons_trade_FS_08_6.csv', index_col=0)\n",
    "df7 = pd.read_csv('datasets_snapshot_id/aug_weapons_trade_FS_08_7.csv', index_col=0)\n",
    "df8 = pd.read_csv('datasets_snapshot_id/aug_weapons_trade_FS_08_8.csv', index_col=0)\n",
    "df9 = pd.read_csv('datasets_snapshot_id/aug_weapons_trade_FS_08_9.csv', index_col=0)\n",
    "df10 = pd.read_csv('datasets_snapshot_id/aug_weapons_trade_FS_08_10.csv', index_col=0)\n",
    "df11 = pd.read_csv('datasets_snapshot_id/aug_weapons_trade_FS_08_11.csv', index_col=0)\n",
    "\n",
    "df_all = pd.concat([df1, df2, df3, df4, df5, df6, df7, df8, df9, df10, df11], ignore_index=True)\n",
    "df_all_synt_weapons_trade = df_all[df_all['is synthetic'] == True].copy()\n",
    "df_all_synt_weapons_trade"
   ]
  },
  {
   "cell_type": "markdown",
   "metadata": {},
   "source": [
    "Remove duplicates"
   ]
  },
  {
   "cell_type": "code",
   "execution_count": null,
   "metadata": {},
   "outputs": [],
   "source": [
    "duplicates = df_all_synt_weapons_trade.duplicated(keep=False)\n",
    "df_all_synt_weapons_trade[duplicates]"
   ]
  },
  {
   "cell_type": "code",
   "execution_count": 17,
   "metadata": {},
   "outputs": [],
   "source": [
    "df_all_synt_weapons_trade = df_all_synt_weapons_trade.drop([589, 1022, 1182, 1220]).reset_index(drop=True)"
   ]
  },
  {
   "cell_type": "code",
   "execution_count": null,
   "metadata": {},
   "outputs": [],
   "source": [
    "duplicates = df_all_synt_weapons_trade['text'].duplicated(keep=False)\n",
    "df_all_synt_weapons_trade[duplicates]"
   ]
  },
  {
   "cell_type": "code",
   "execution_count": 19,
   "metadata": {},
   "outputs": [],
   "source": [
    "df_all_synt_weapons_trade = df_all_synt_weapons_trade.drop([13, 43, 121, 209, 414, 428, 479, 597, 609, 645, 654, 661, 742, 748, 776, 781]).reset_index(drop=True)"
   ]
  },
  {
   "cell_type": "markdown",
   "metadata": {},
   "source": [
    "Further cleaning steps"
   ]
  },
  {
   "cell_type": "code",
   "execution_count": 20,
   "metadata": {},
   "outputs": [],
   "source": [
    "df_all_synt_weapons_trade['text'] = df_all_synt_weapons_trade['text'].apply(lambda x: re.sub(r'\\s{2,}|#', ' ', x))"
   ]
  },
  {
   "cell_type": "code",
   "execution_count": 21,
   "metadata": {},
   "outputs": [],
   "source": [
    "df_all_synt_weapons_trade['text'] = df_all_synt_weapons_trade['text'].apply(lambda x: re.sub(r'(www|http[s]?)(\\S*)', '', x, flags=re.MULTILINE)) #remove links\n"
   ]
  },
  {
   "cell_type": "code",
   "execution_count": 22,
   "metadata": {},
   "outputs": [],
   "source": [
    "df_all_synt_weapons_trade['text'] = df_all_synt_weapons_trade['text'].apply(lambda text: re.sub(r'\\b(?:\\+\\d{1,2}\\s?)?\\(?(?:\\d{1,4})?\\)?[-.\\s]?\\d{1,5}[-.\\s]?\\d{1,5}[-.\\s]?\\d{1,9}\\b', '', text)) #remove phone numbers\n",
    "df_all_synt_weapons_trade['text'] = df_all_synt_weapons_trade['text'].apply(lambda text: re.sub(r'\\b[A-Za-z0-9._%+-]+@[A-Za-z0-9.-]+\\.[A-Z|a-z]{2,7}\\b', '', text)) #remove email addresses\n",
    "df_all_synt_weapons_trade['text'] = df_all_synt_weapons_trade['text'].apply(lambda text: re.sub(r'[^\\x00-\\x7F]+', '', text)) #removes non basic ASCII character, to remove non English characters\n",
    "df_all_synt_weapons_trade['text'] = df_all_synt_weapons_trade['text'].apply(lambda text: re.sub(r'[^\\w\\s.?!,:;\\'\"\\d-]', '', text)) #removes uncommon punctuation"
   ]
  },
  {
   "cell_type": "code",
   "execution_count": 25,
   "metadata": {},
   "outputs": [
    {
     "data": {
      "text/plain": [
       "(717, 5)"
      ]
     },
     "execution_count": 25,
     "metadata": {},
     "output_type": "execute_result"
    }
   ],
   "source": [
    "df_all_synt_weapons_trade['text_len'] = df_all_synt_weapons_trade['text'].apply(lambda x: len(x.split(' ')))\n",
    "df_all_synt_weapons_trade = df_all_synt_weapons_trade[df_all_synt_weapons_trade.text_len >= 10].copy()\n",
    "df_all_synt_weapons_trade.shape"
   ]
  },
  {
   "cell_type": "code",
   "execution_count": 26,
   "metadata": {},
   "outputs": [],
   "source": [
    "df_all_synt_weapons_trade.to_csv('processed_datasets_08/aug_weapons_trade_08_trainval_FS.csv')"
   ]
  },
  {
   "cell_type": "code",
   "execution_count": null,
   "metadata": {},
   "outputs": [],
   "source": [
    "df_all = pd.read_csv('datasets_snapshot_id/aug_drugs_trade_FS_08_1.csv', index_col=0)\n",
    "df_all_synt_drugs_trade = df_all[df_all['is synthetic'] == True].copy()\n",
    "df_all_synt_drugs_trade"
   ]
  },
  {
   "cell_type": "markdown",
   "metadata": {},
   "source": [
    "Remove duplicates"
   ]
  },
  {
   "cell_type": "code",
   "execution_count": 28,
   "metadata": {},
   "outputs": [
    {
     "data": {
      "text/html": [
       "<div>\n",
       "<style scoped>\n",
       "    .dataframe tbody tr th:only-of-type {\n",
       "        vertical-align: middle;\n",
       "    }\n",
       "\n",
       "    .dataframe tbody tr th {\n",
       "        vertical-align: top;\n",
       "    }\n",
       "\n",
       "    .dataframe thead th {\n",
       "        text-align: right;\n",
       "    }\n",
       "</style>\n",
       "<table border=\"1\" class=\"dataframe\">\n",
       "  <thead>\n",
       "    <tr style=\"text-align: right;\">\n",
       "      <th></th>\n",
       "      <th>text</th>\n",
       "      <th>label</th>\n",
       "      <th>snapshot_id</th>\n",
       "      <th>is synthetic</th>\n",
       "    </tr>\n",
       "  </thead>\n",
       "  <tbody>\n",
       "  </tbody>\n",
       "</table>\n",
       "</div>"
      ],
      "text/plain": [
       "Empty DataFrame\n",
       "Columns: [text, label, snapshot_id, is synthetic]\n",
       "Index: []"
      ]
     },
     "execution_count": 28,
     "metadata": {},
     "output_type": "execute_result"
    }
   ],
   "source": [
    "duplicates = df_all_synt_drugs_trade.duplicated(keep=False) #it iterates only once through the datasets so no duplicates in terms of both id and text\n",
    "df_all_synt_drugs_trade[duplicates]"
   ]
  },
  {
   "cell_type": "code",
   "execution_count": null,
   "metadata": {},
   "outputs": [],
   "source": [
    "duplicates = df_all_synt_drugs_trade['text'].duplicated(keep=False) #but also just one in text\n",
    "df_all_synt_drugs_trade[duplicates]"
   ]
  },
  {
   "cell_type": "code",
   "execution_count": 30,
   "metadata": {},
   "outputs": [],
   "source": [
    "df_all_synt_drugs_trade = df_all_synt_drugs_trade.drop([97]).reset_index(drop=True)"
   ]
  },
  {
   "cell_type": "markdown",
   "metadata": {},
   "source": [
    "Further cleaning steps"
   ]
  },
  {
   "cell_type": "code",
   "execution_count": 31,
   "metadata": {},
   "outputs": [],
   "source": [
    "df_all_synt_drugs_trade['text'] = df_all_synt_drugs_trade['text'].apply(lambda x: re.sub(r'\\s{2,}|#', ' ', x))"
   ]
  },
  {
   "cell_type": "code",
   "execution_count": 32,
   "metadata": {},
   "outputs": [],
   "source": [
    "df_all_synt_drugs_trade['text'] = df_all_synt_drugs_trade['text'].apply(lambda x: re.sub(r'(www|http[s]?)(\\S*)', '', x, flags=re.MULTILINE)) #remove links\n"
   ]
  },
  {
   "cell_type": "code",
   "execution_count": 33,
   "metadata": {},
   "outputs": [],
   "source": [
    "df_all_synt_drugs_trade['text'] = df_all_synt_drugs_trade['text'].apply(lambda text: re.sub(r'\\b(?:\\+\\d{1,2}\\s?)?\\(?(?:\\d{1,4})?\\)?[-.\\s]?\\d{1,5}[-.\\s]?\\d{1,5}[-.\\s]?\\d{1,9}\\b', '', text)) #remove phone numbers\n",
    "df_all_synt_drugs_trade['text'] = df_all_synt_drugs_trade['text'].apply(lambda text: re.sub(r'\\b[A-Za-z0-9._%+-]+@[A-Za-z0-9.-]+\\.[A-Z|a-z]{2,7}\\b', '', text)) #remove email addresses\n",
    "df_all_synt_drugs_trade['text'] = df_all_synt_drugs_trade['text'].apply(lambda text: re.sub(r'[^\\x00-\\x7F]+', '', text)) #removes non basic ASCII character, to remove non English characters\n",
    "df_all_synt_drugs_trade['text'] = df_all_synt_drugs_trade['text'].apply(lambda text: re.sub(r'[^\\w\\s.?!,:;\\'\"\\d-]', '', text)) #removes uncommon punctuation"
   ]
  },
  {
   "cell_type": "code",
   "execution_count": 34,
   "metadata": {},
   "outputs": [
    {
     "data": {
      "text/plain": [
       "(366, 5)"
      ]
     },
     "execution_count": 34,
     "metadata": {},
     "output_type": "execute_result"
    }
   ],
   "source": [
    "df_all_synt_drugs_trade['text_len'] = df_all_synt_drugs_trade['text'].apply(lambda x: len(x.split(' ')))\n",
    "df_all_synt_drugs_trade = df_all_synt_drugs_trade[df_all_synt_drugs_trade.text_len >= 10].copy()\n",
    "df_all_synt_drugs_trade.shape"
   ]
  },
  {
   "cell_type": "code",
   "execution_count": 35,
   "metadata": {},
   "outputs": [],
   "source": [
    "df_all_synt_drugs_trade.to_csv('processed_datasets_08/aug_drugs_trade_08_trainval_FS.csv')"
   ]
  },
  {
   "cell_type": "code",
   "execution_count": null,
   "metadata": {},
   "outputs": [],
   "source": [
    "df_all = pd.read_csv('datasets_snapshot_id/aug_cybercrime_FS_08_1.csv', index_col=0)\n",
    "df_all_synt_cybercrime = df_all[df_all['is synthetic'] == True].copy()\n",
    "df_all_synt_cybercrime"
   ]
  },
  {
   "cell_type": "markdown",
   "metadata": {},
   "source": [
    "Remove duplicates"
   ]
  },
  {
   "cell_type": "code",
   "execution_count": 37,
   "metadata": {},
   "outputs": [
    {
     "data": {
      "text/html": [
       "<div>\n",
       "<style scoped>\n",
       "    .dataframe tbody tr th:only-of-type {\n",
       "        vertical-align: middle;\n",
       "    }\n",
       "\n",
       "    .dataframe tbody tr th {\n",
       "        vertical-align: top;\n",
       "    }\n",
       "\n",
       "    .dataframe thead th {\n",
       "        text-align: right;\n",
       "    }\n",
       "</style>\n",
       "<table border=\"1\" class=\"dataframe\">\n",
       "  <thead>\n",
       "    <tr style=\"text-align: right;\">\n",
       "      <th></th>\n",
       "      <th>text</th>\n",
       "      <th>label</th>\n",
       "      <th>snapshot_id</th>\n",
       "      <th>is synthetic</th>\n",
       "    </tr>\n",
       "  </thead>\n",
       "  <tbody>\n",
       "  </tbody>\n",
       "</table>\n",
       "</div>"
      ],
      "text/plain": [
       "Empty DataFrame\n",
       "Columns: [text, label, snapshot_id, is synthetic]\n",
       "Index: []"
      ]
     },
     "execution_count": 37,
     "metadata": {},
     "output_type": "execute_result"
    }
   ],
   "source": [
    "duplicates = df_all_synt_cybercrime.duplicated(keep=False)\n",
    "df_all_synt_cybercrime[duplicates]"
   ]
  },
  {
   "cell_type": "code",
   "execution_count": null,
   "metadata": {},
   "outputs": [],
   "source": [
    "duplicates = df_all_synt_cybercrime['text'].duplicated(keep=False)\n",
    "df_all_synt_cybercrime[duplicates]"
   ]
  },
  {
   "cell_type": "code",
   "execution_count": 39,
   "metadata": {},
   "outputs": [],
   "source": [
    "df_all_synt_cybercrime = df_all_synt_cybercrime.drop([238, 560, 606]).reset_index(drop=True)"
   ]
  },
  {
   "cell_type": "markdown",
   "metadata": {},
   "source": [
    "Further cleaning steps"
   ]
  },
  {
   "cell_type": "code",
   "execution_count": 40,
   "metadata": {},
   "outputs": [],
   "source": [
    "df_all_synt_cybercrime['text'] = df_all_synt_cybercrime['text'].apply(lambda x: re.sub(r'\\s{2,}|#', ' ', x)) #remove long spaces and # resulting from extraction process"
   ]
  },
  {
   "cell_type": "code",
   "execution_count": 41,
   "metadata": {},
   "outputs": [],
   "source": [
    "df_all_synt_cybercrime['text'] = df_all_synt_cybercrime['text'].apply(lambda x: re.sub(r'(www|http[s]?)(\\S*)', '', x, flags=re.MULTILINE)) #remove links\n"
   ]
  },
  {
   "cell_type": "code",
   "execution_count": 42,
   "metadata": {},
   "outputs": [],
   "source": [
    "df_all_synt_cybercrime['text'] = df_all_synt_cybercrime['text'].apply(lambda text: re.sub(r'\\b(?:\\+\\d{1,2}\\s?)?\\(?(?:\\d{1,4})?\\)?[-.\\s]?\\d{1,5}[-.\\s]?\\d{1,5}[-.\\s]?\\d{1,9}\\b', '', text)) #remove phone numbers\n",
    "df_all_synt_cybercrime['text'] = df_all_synt_cybercrime['text'].apply(lambda text: re.sub(r'\\b[A-Za-z0-9._%+-]+@[A-Za-z0-9.-]+\\.[A-Z|a-z]{2,7}\\b', '', text)) #remove email addresses\n",
    "df_all_synt_cybercrime['text'] = df_all_synt_cybercrime['text'].apply(lambda text: re.sub(r'[^\\x00-\\x7F]+', '', text)) #removes non basic ASCII character, to remove non English characters\n",
    "df_all_synt_cybercrime['text'] = df_all_synt_cybercrime['text'].apply(lambda text: re.sub(r'[^\\w\\s.?!,:;\\'\"\\d-]', '', text)) #removes uncommon punctuation"
   ]
  },
  {
   "cell_type": "code",
   "execution_count": 43,
   "metadata": {},
   "outputs": [
    {
     "data": {
      "text/plain": [
       "(277, 5)"
      ]
     },
     "execution_count": 43,
     "metadata": {},
     "output_type": "execute_result"
    }
   ],
   "source": [
    "df_all_synt_cybercrime['text_len'] = df_all_synt_cybercrime['text'].apply(lambda x: len(x.split(' ')))\n",
    "df_all_synt_cybercrime = df_all_synt_cybercrime[df_all_synt_cybercrime.text_len >= 10].copy()\n",
    "df_all_synt_cybercrime.shape"
   ]
  },
  {
   "cell_type": "code",
   "execution_count": 44,
   "metadata": {},
   "outputs": [],
   "source": [
    "df_all_synt_cybercrime.to_csv('processed_datasets_08/aug_cybercrime_08_trainval_FS.csv')"
   ]
  },
  {
   "cell_type": "markdown",
   "metadata": {},
   "source": [
    "Splitting train and val"
   ]
  },
  {
   "cell_type": "code",
   "execution_count": 45,
   "metadata": {},
   "outputs": [],
   "source": [
    "df_train = pd.read_csv('nolower_datasplit/train_nolower.csv', index_col=0)\n",
    "df_val = pd.read_csv('nolower_datasplit/val_nolower.csv', index_col=0) "
   ]
  },
  {
   "cell_type": "code",
   "execution_count": 46,
   "metadata": {},
   "outputs": [
    {
     "data": {
      "text/plain": [
       "((662, 5), (662, 12), (471, 3), (191, 3))"
      ]
     },
     "execution_count": 46,
     "metadata": {},
     "output_type": "execute_result"
    }
   ],
   "source": [
    "df_merge_vc = pd.merge(df_all_synt_violent_crime, df_train, how='left', on='snapshot_id', indicator=True)\n",
    "df_merge_vc_train = df_merge_vc[df_merge_vc._merge == 'both'][['text_x', 'label_x', 'snapshot_id']]\n",
    "df_merge_vc_train.columns = ['text', 'label', 'snapshot_id']\n",
    "df_merge_vc_val = df_merge_vc[df_merge_vc._merge == 'left_only'][['text_x', 'label_x', 'snapshot_id']]\n",
    "df_merge_vc_val.columns = ['text', 'label', 'snapshot_id']\n",
    "df_all_synt_violent_crime.shape, df_merge_vc.shape, df_merge_vc_train.shape, df_merge_vc_val.shape"
   ]
  },
  {
   "cell_type": "code",
   "execution_count": 47,
   "metadata": {},
   "outputs": [],
   "source": [
    "df_merge_vc_train.to_csv('processed_datasets_08/aug_violent_crime_08_train_FS.csv')\n",
    "df_merge_vc_val.to_csv('processed_datasets_08/aug_violent_crime_08_val_FS.csv')"
   ]
  },
  {
   "cell_type": "code",
   "execution_count": 48,
   "metadata": {},
   "outputs": [
    {
     "data": {
      "text/plain": [
       "((277, 5), (277, 12), (209, 3), (68, 3))"
      ]
     },
     "execution_count": 48,
     "metadata": {},
     "output_type": "execute_result"
    }
   ],
   "source": [
    "df_merge_cc = pd.merge(df_all_synt_cybercrime, df_train, how='left', on='snapshot_id', indicator=True)\n",
    "df_merge_cc_train = df_merge_cc[df_merge_cc._merge == 'both'][['text_x', 'label_x', 'snapshot_id']]\n",
    "df_merge_cc_train.columns = ['text', 'label', 'snapshot_id']\n",
    "df_merge_cc_val = df_merge_cc[df_merge_cc._merge == 'left_only'][['text_x', 'label_x', 'snapshot_id']]\n",
    "df_merge_cc_val.columns = ['text', 'label', 'snapshot_id']\n",
    "df_all_synt_cybercrime.shape, df_merge_cc.shape, df_merge_cc_train.shape, df_merge_cc_val.shape"
   ]
  },
  {
   "cell_type": "code",
   "execution_count": 49,
   "metadata": {},
   "outputs": [],
   "source": [
    "df_merge_cc_train.to_csv('processed_datasets_08/aug_cybercrime_08_train_FS.csv')\n",
    "df_merge_cc_val.to_csv('processed_datasets_08/aug_cybercrime_08_val_FS.csv')"
   ]
  },
  {
   "cell_type": "code",
   "execution_count": 50,
   "metadata": {},
   "outputs": [
    {
     "data": {
      "text/plain": [
       "((717, 5), (717, 12), (528, 3), (189, 3))"
      ]
     },
     "execution_count": 50,
     "metadata": {},
     "output_type": "execute_result"
    }
   ],
   "source": [
    "df_merge_wt = pd.merge(df_all_synt_weapons_trade, df_train, how='left', on='snapshot_id', indicator=True)\n",
    "df_merge_wt_train = df_merge_wt[df_merge_wt._merge == 'both'][['text_x', 'label_x', 'snapshot_id']]\n",
    "df_merge_wt_train.columns = ['text', 'label', 'snapshot_id']\n",
    "df_merge_wt_val = df_merge_wt[df_merge_wt._merge == 'left_only'][['text_x', 'label_x', 'snapshot_id']]\n",
    "df_merge_wt_val.columns = ['text', 'label', 'snapshot_id']\n",
    "df_all_synt_weapons_trade.shape, df_merge_wt.shape, df_merge_wt_train.shape, df_merge_wt_val.shape"
   ]
  },
  {
   "cell_type": "code",
   "execution_count": 51,
   "metadata": {},
   "outputs": [],
   "source": [
    "df_merge_wt_train.to_csv('processed_datasets_08/aug_weapons_trade_08_train_FS.csv')\n",
    "df_merge_wt_val.to_csv('processed_datasets_08/aug_weapons_trade_08_val_FS.csv')"
   ]
  },
  {
   "cell_type": "code",
   "execution_count": 52,
   "metadata": {},
   "outputs": [
    {
     "data": {
      "text/plain": [
       "((366, 5), (366, 12), (273, 3), (93, 3))"
      ]
     },
     "execution_count": 52,
     "metadata": {},
     "output_type": "execute_result"
    }
   ],
   "source": [
    "df_merge_dt = pd.merge(df_all_synt_drugs_trade, df_train, how='left', on='snapshot_id', indicator=True)\n",
    "df_merge_dt_train = df_merge_dt[df_merge_dt._merge == 'both'][['text_x', 'label_x', 'snapshot_id']]\n",
    "df_merge_dt_train.columns = ['text', 'label', 'snapshot_id']\n",
    "df_merge_dt_val = df_merge_dt[df_merge_dt._merge == 'left_only'][['text_x', 'label_x', 'snapshot_id']]\n",
    "df_merge_dt_val.columns = ['text', 'label', 'snapshot_id']\n",
    "df_all_synt_drugs_trade.shape, df_merge_dt.shape, df_merge_dt_train.shape, df_merge_dt_val.shape"
   ]
  },
  {
   "cell_type": "code",
   "execution_count": 53,
   "metadata": {},
   "outputs": [],
   "source": [
    "df_merge_dt_train.to_csv('processed_datasets_08/aug_drugs_trade_08_train_FS.csv')\n",
    "df_merge_dt_val.to_csv('processed_datasets_08/aug_drugs_trade_08_val_FS.csv')"
   ]
  }
 ],
 "metadata": {
  "kernelspec": {
   "display_name": "project_env",
   "language": "python",
   "name": "python3"
  },
  "language_info": {
   "codemirror_mode": {
    "name": "ipython",
    "version": 3
   },
   "file_extension": ".py",
   "mimetype": "text/x-python",
   "name": "python",
   "nbconvert_exporter": "python",
   "pygments_lexer": "ipython3",
   "version": "3.10.13"
  }
 },
 "nbformat": 4,
 "nbformat_minor": 2
}
